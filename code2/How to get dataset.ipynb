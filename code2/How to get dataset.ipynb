{
 "cells": [
  {
   "cell_type": "code",
   "execution_count": 13,
   "id": "281e3eeb-e187-4c1d-bc0d-81238df34a96",
   "metadata": {},
   "outputs": [],
   "source": [
    "from datetime import datetime, timedelta\n",
    "\n",
    "# 定义起始和结束日期\n",
    "start_date = datetime(2021, 10, 1)\n",
    "end_date = datetime(2022, 1, 1)\n",
    "\n",
    "commands = []\n",
    "current_date = start_date\n",
    "\n"
   ]
  },
  {
   "cell_type": "code",
   "execution_count": 14,
   "id": "2ff18409-43d4-497e-9f6d-72402b49b8af",
   "metadata": {},
   "outputs": [
    {
     "name": "stdout",
     "output_type": "stream",
     "text": [
      "批处理文件 'run_commands.bat' 已生成\n"
     ]
    }
   ],
   "source": [
    "# 循环生成命令\n",
    "while current_date < end_date:\n",
    "    next_date = current_date + timedelta(days=1)\n",
    "    current_date_str = current_date.strftime(\"%Y-%m-%d\")\n",
    "    next_date_str = next_date.strftime(\"%Y-%m-%d\")\n",
    "    commands.append(f'curl --cookie cookies.txt https://www.space-track.org/basicspacedata/query/class/gp_history/CREATION_DATE/{current_date_str}--{next_date_str}/orderby/NORAD_CAT_ID,EPOCH/format/3le > satellite_TLE_{current_date_str}--{next_date_str}.txt')\n",
    "    commands.append('timeout /t 15 /nobreak')\n",
    "    current_date = next_date\n",
    "\n",
    "# 将登录命令和下载命令写入批处理文件\n",
    "with open('run_commands.bat', 'w') as f:\n",
    "    f.write('curl -c cookies.txt -b cookies.txt https://www.space-track.org/ajaxauth/login -d \"identity=gao.2174@osu.edu&password=Gaoyichen666!123\"\\n')\n",
    "    for command in commands:\n",
    "        f.write(command + '\\n')\n",
    "\n",
    "print(\"批处理文件 'run_commands.bat' 已生成\")\n"
   ]
  },
  {
   "cell_type": "code",
   "execution_count": null,
   "id": "07afe71d-228a-4782-a163-0de37b8fac6a",
   "metadata": {},
   "outputs": [],
   "source": []
  }
 ],
 "metadata": {
  "kernelspec": {
   "display_name": "Python 3 (ipykernel)",
   "language": "python",
   "name": "python3"
  },
  "language_info": {
   "codemirror_mode": {
    "name": "ipython",
    "version": 3
   },
   "file_extension": ".py",
   "mimetype": "text/x-python",
   "name": "python",
   "nbconvert_exporter": "python",
   "pygments_lexer": "ipython3",
   "version": "3.11.7"
  }
 },
 "nbformat": 4,
 "nbformat_minor": 5
}
