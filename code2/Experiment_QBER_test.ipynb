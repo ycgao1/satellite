{
 "cells": [
  {
   "cell_type": "code",
   "execution_count": 1,
   "id": "76a0147a-6c74-4ca3-99a9-59e306ba6fbc",
   "metadata": {},
   "outputs": [],
   "source": [
    "import numpy as np\n",
    "import matplotlib.pyplot as plt\n"
   ]
  },
  {
   "cell_type": "code",
   "execution_count": 2,
   "id": "914c17ec-bb87-4057-84f8-f8d08d34350f",
   "metadata": {},
   "outputs": [],
   "source": [
    "def create_bell_state():\n",
    "    \"\"\"生成一个贝尔态 |Φ+⟩ = (|00⟩ + |11⟩) / sqrt(2)\"\"\"\n",
    "    # 使用向量表示 |00⟩ 和 |11⟩ 的叠加\n",
    "    return np.array([1, 0, 0, 1]) / np.sqrt(2)\n",
    "\n"
   ]
  },
  {
   "cell_type": "code",
   "execution_count": 3,
   "id": "bde1824e-f4b7-466a-9204-9eff394d7eda",
   "metadata": {},
   "outputs": [],
   "source": [
    "def measure_in_z_basis(state):\n",
    "    \"\"\"在Z基上测量一个量子态\"\"\"\n",
    "    # 因为状态向量是 [1/sqrt(2), 0, 0, 1/sqrt(2)]，我们关心的索引是 0 和 3 (|00⟩ 和 |11⟩)\n",
    "    probabilities = np.abs(state[[0, 3]])**2  # 选择第1个和第4个元素\n",
    "    # 模拟测量结果\n",
    "    result = np.random.choice(['00', '11'], p=probabilities)\n",
    "    return result\n",
    "\n",
    "def measure_in_x_basis(state):\n",
    "    \"\"\"在X基上测量一个量子态\"\"\"\n",
    "    # Hadamard门变换每个量子比特\n",
    "    H = (1/np.sqrt(2)) * np.array([[1, 1], [1, -1]])\n",
    "    # 变换到X基\n",
    "    state_x_basis = np.kron(H, H).dot(state)\n",
    "    # 概率密度 |amplitude|^2\n",
    "    probabilities = np.abs(state_x_basis)**2\n",
    "    # 模拟测量结果\n",
    "    result = np.random.choice(['00', '01', '10', '11'], p=probabilities)\n",
    "    return result\n",
    "\n",
    "\n",
    "def measure(qubit, basis):\n",
    "    if basis == 'Z':\n",
    "        # Z-basis: |0⟩ and |1⟩\n",
    "        #probabilities = [np.abs(qubit[0])**2, np.abs(qubit[3])**2]\n",
    "        result = measure_in_z_basis(qubit)\n",
    "    elif basis == 'X':\n",
    "        # X-basis: |+⟩ = (|0⟩ + |1⟩)/√2 and |−⟩ = (|0⟩ − |1⟩)/√2\n",
    "        #plus_state = (qubit[0] + qubit[3]) / np.sqrt(2)\n",
    "        #minus_state = (qubit[0] - qubit[3]) / np.sqrt(2)\n",
    "        #probabilities = [np.abs(plus_state)**2, np.abs(minus_state)**2]\n",
    "        result = measure_in_x_basis(qubit)\n",
    "    \n",
    "    #result = np.random.choice([0, 1], p=probabilities)\n",
    "    return result\n",
    "\n",
    "\n"
   ]
  },
  {
   "cell_type": "code",
   "execution_count": 4,
   "id": "6bcb0953-a765-4649-8a64-d9eaaeac159e",
   "metadata": {},
   "outputs": [],
   "source": [
    "def simulate_communication(num_bits, with_eve=False):\n",
    "    bases = ['Z', 'X']\n",
    "    alice_bases = np.random.choice(bases, num_bits)\n",
    "    bob_bases = np.random.choice(bases, num_bits)\n",
    "    \n",
    "    alice_results = []\n",
    "    bob_results = []\n",
    "    \n",
    "    for i in range(num_bits):\n",
    "        #qubit = create_entangled_pair()\n",
    "        qubit = create_bell_state()\n",
    "        alice_result = measure(qubit, alice_bases[i])\n",
    "        bob_result = measure(qubit, bob_bases[i])\n",
    "        \n",
    "        # Eve intercepts the communication\n",
    "        if with_eve:\n",
    "            eve_basis = np.random.choice(bases)\n",
    "            eve_result = measure(qubit, eve_basis)\n",
    "            # If Eve's basis matches Bob's, she sends the result she got to Bob\n",
    "            if eve_basis == bob_bases[i]:\n",
    "                bob_result = eve_result\n",
    "        \n",
    "        alice_results.append(alice_result)\n",
    "        bob_results.append(bob_result)\n",
    "    \n",
    "    return alice_bases, bob_bases, alice_results, bob_results\n"
   ]
  },
  {
   "cell_type": "code",
   "execution_count": 34,
   "id": "3cb711ec-0d4e-4a8f-a3a4-b448e96bd3d0",
   "metadata": {},
   "outputs": [],
   "source": [
    "def calculate_qber(alice_bases, bob_bases, alice_results, bob_results):\n",
    "    matching_bases_indices = np.where(alice_bases == bob_bases)[0]\n",
    "    matching_bases_count = len(matching_bases_indices)\n",
    "    \n",
    "    if matching_bases_count == 0:\n",
    "        return 0, 0\n",
    "    \n",
    "    error_count = sum(alice_results[i] != bob_results[i] for i in matching_bases_indices)\n",
    "    \n",
    "    qber = error_count / matching_bases_count\n",
    "    key_generation_rate = matching_bases_count / len(alice_bases)\n",
    "    \n",
    "    return qber, key_generation_rate\n"
   ]
  },
  {
   "cell_type": "code",
   "execution_count": 35,
   "id": "de7a3e76-149a-4c82-8449-c25c1061229c",
   "metadata": {},
   "outputs": [
    {
     "name": "stdout",
     "output_type": "stream",
     "text": [
      "QBER without Eve: 53.12%\n",
      "QBER with Eve: 51.57%\n"
     ]
    },
    {
     "data": {
      "image/png": "[encoded data removed]",
      "text/plain": [
       "<Figure size 640x480 with 1 Axes>"
      ]
     },
     "metadata": {},
     "output_type": "display_data"
    }
   ],
   "source": [
    "def run_simulation(num_bits, num_trials):\n",
    "    qber_no_eve = []\n",
    "    qber_with_eve = []\n",
    "    \n",
    "    for _ in range(num_trials):\n",
    "        alice_bases, bob_bases, alice_results, bob_results = simulate_communication(num_bits, with_eve=False)\n",
    "        qber, _ = calculate_qber(alice_bases, bob_bases, alice_results, bob_results)\n",
    "        qber_no_eve.append(qber)\n",
    "        \n",
    "        alice_bases, bob_bases, alice_results, bob_results = simulate_communication(num_bits, with_eve=True)\n",
    "        qber, _ = calculate_qber(alice_bases, bob_bases, alice_results, bob_results)\n",
    "        qber_with_eve.append(qber)\n",
    "    \n",
    "    return np.mean(qber_no_eve), np.mean(qber_with_eve)\n",
    "\n",
    "# Simulate\n",
    "num_bits = 1000\n",
    "num_trials = 1\n",
    "\n",
    "qber_no_eve, qber_with_eve = run_simulation(num_bits, num_trials)\n",
    "\n",
    "print(f'QBER without Eve: {qber_no_eve * 100:.2f}%')\n",
    "print(f'QBER with Eve: {qber_with_eve * 100:.2f}%')\n",
    "\n",
    "# Plotting\n",
    "labels = ['No Eve', 'With Eve']\n",
    "qber_values = [qber_no_eve, qber_with_eve]\n",
    "\n",
    "plt.bar(labels, qber_values)\n",
    "plt.ylabel('QBER')\n",
    "plt.title('Quantum Bit Error Rate with and without Eve')\n",
    "plt.show()\n"
   ]
  },
  {
   "cell_type": "code",
   "execution_count": 34,
   "id": "cb85a0ef-f0c7-4606-ae6d-84e93d71fceb",
   "metadata": {},
   "outputs": [],
   "source": [
    "def measure(qubit, basis):\n",
    "    if basis == 'Z':\n",
    "        # Z-basis: |0⟩ and |1⟩\n",
    "        probabilities = [np.abs(qubit[0])**2, np.abs(qubit[3])**2]\n",
    "    elif basis == 'X':\n",
    "        # Proper X-basis measurement\n",
    "        H = np.array([[1, 1], [1, -1]]) / np.sqrt(2)  # Hadamard matrix\n",
    "        plus_state = (qubit[0] + qubit[3]) / np.sqrt(2)\n",
    "        minus_state = (qubit[0] - qubit[3]) / np.sqrt(2)\n",
    "        probabilities = [np.abs(plus_state)**2, np.abs(minus_state)**2]\n",
    "        # Ensure numerical stability\n",
    "        #probabilities = np.clip(probabilities, 0, 1)\n",
    "    \n",
    "    result = np.random.choice([0, 1], p=probabilities)\n",
    "    return result"
   ]
  },
  {
   "cell_type": "code",
   "execution_count": 35,
   "id": "41bff770-bbfa-4bd4-91b8-baa2d007480d",
   "metadata": {},
   "outputs": [
    {
     "data": {
      "text/plain": [
       "0"
      ]
     },
     "execution_count": 35,
     "metadata": {},
     "output_type": "execute_result"
    }
   ],
   "source": [
    "qubit = create_entangled_pair()\n",
    "alice_result = measure(qubit, 'X')\n",
    "alice_result"
   ]
  },
  {
   "cell_type": "code",
   "execution_count": 36,
   "id": "51d74ab4-6f78-4534-a38d-7aa558eae9c7",
   "metadata": {},
   "outputs": [],
   "source": [
    "import numpy as np\n",
    "\n",
    "def create_entangled_pair():\n",
    "    # Bell state: |ψ⟩ = 1/√2 * (|00⟩ + |11⟩)\n",
    "    return np.array([1/np.sqrt(2), 0, 0, 1/np.sqrt(2)])\n",
    "\n",
    "def measure(qubit, basis):\n",
    "    if basis == 'Z':\n",
    "        # Z-basis: |0⟩ and |1⟩\n",
    "        probabilities = [np.abs(qubit[0])**2, np.abs(qubit[3])**2]\n",
    "    elif basis == 'X':\n",
    "        # X-basis measurement with Hadamard transformation\n",
    "        # |+⟩ = 1/√2 * (|0⟩ + |1⟩)\n",
    "        # |−⟩ = 1/√2 * (|0⟩ - |1⟩)\n",
    "        plus_state = (qubit[0] + qubit[3]) / np.sqrt(2)\n",
    "        minus_state = (qubit[0] - qubit[3]) / np.sqrt(2)\n",
    "        probabilities = [np.abs(plus_state)**2, np.abs(minus_state)**2]\n",
    "    \n",
    "    # Numerical stability check\n",
    "    probabilities = np.clip(probabilities, 0, 1)\n",
    "    \n",
    "    # Randomly choose the result based on the calculated probabilities\n",
    "    result = np.random.choice([0, 1], p=probabilities)\n",
    "    return result"
   ]
  },
  {
   "cell_type": "code",
   "execution_count": 41,
   "id": "97fb8333-e02a-47a8-8eb5-feb9e10e7f69",
   "metadata": {},
   "outputs": [
    {
     "name": "stdout",
     "output_type": "stream",
     "text": [
      "Z-basis result: 0\n",
      "X-basis result: 0\n"
     ]
    }
   ],
   "source": [
    "# Create an entangled pair\n",
    "qubit = create_entangled_pair()\n",
    "\n",
    "# Measure in Z-basis\n",
    "z_result = measure(qubit, 'Z')\n",
    "print(f\"Z-basis result: {z_result}\")\n",
    "\n",
    "# Measure in X-basis\n",
    "x_result = measure(qubit, 'X')\n",
    "print(f\"X-basis result: {x_result}\")\n"
   ]
  },
  {
   "cell_type": "code",
   "execution_count": 5,
   "id": "2b79d788-a541-42e7-ae74-a2af7952a6df",
   "metadata": {},
   "outputs": [
    {
     "name": "stdout",
     "output_type": "stream",
     "text": [
      "Z 基测量结果: 1\n",
      "[0.062499999999999944, 0.062499999999999944]\n"
     ]
    },
    {
     "ename": "ValueError",
     "evalue": "probabilities do not sum to 1",
     "output_type": "error",
     "traceback": [
      "\u001b[1;31m---------------------------------------------------------------------------\u001b[0m",
      "\u001b[1;31mValueError\u001b[0m                                Traceback (most recent call last)",
      "Cell \u001b[1;32mIn[5], line 42\u001b[0m\n\u001b[0;32m     40\u001b[0m qubit \u001b[38;5;241m=\u001b[39m create_entangled_pair()\n\u001b[0;32m     41\u001b[0m \u001b[38;5;28mprint\u001b[39m(\u001b[38;5;124mf\u001b[39m\u001b[38;5;124m\"\u001b[39m\u001b[38;5;124mZ 基测量结果: \u001b[39m\u001b[38;5;132;01m{\u001b[39;00mmeasure(qubit,\u001b[38;5;250m \u001b[39m\u001b[38;5;124m'\u001b[39m\u001b[38;5;124mZ\u001b[39m\u001b[38;5;124m'\u001b[39m)\u001b[38;5;132;01m}\u001b[39;00m\u001b[38;5;124m\"\u001b[39m)\n\u001b[1;32m---> 42\u001b[0m \u001b[38;5;28mprint\u001b[39m(\u001b[38;5;124mf\u001b[39m\u001b[38;5;124m\"\u001b[39m\u001b[38;5;124mX 基测量结果: \u001b[39m\u001b[38;5;132;01m{\u001b[39;00mmeasure(qubit,\u001b[38;5;250m \u001b[39m\u001b[38;5;124m'\u001b[39m\u001b[38;5;124mX\u001b[39m\u001b[38;5;124m'\u001b[39m)\u001b[38;5;132;01m}\u001b[39;00m\u001b[38;5;124m\"\u001b[39m)\n",
      "Cell \u001b[1;32mIn[5], line 36\u001b[0m, in \u001b[0;36mmeasure\u001b[1;34m(qubit, basis)\u001b[0m\n\u001b[0;32m     33\u001b[0m     \u001b[38;5;28;01mraise\u001b[39;00m \u001b[38;5;167;01mValueError\u001b[39;00m(\u001b[38;5;124m\"\u001b[39m\u001b[38;5;124mUnknown basis. Supported bases: \u001b[39m\u001b[38;5;124m'\u001b[39m\u001b[38;5;124mZ\u001b[39m\u001b[38;5;124m'\u001b[39m\u001b[38;5;124m, \u001b[39m\u001b[38;5;124m'\u001b[39m\u001b[38;5;124mX\u001b[39m\u001b[38;5;124m'\u001b[39m\u001b[38;5;124m.\u001b[39m\u001b[38;5;124m\"\u001b[39m)\n\u001b[0;32m     35\u001b[0m \u001b[38;5;66;03m# Randomly choose the measurement result based on the calculated probabilities\u001b[39;00m\n\u001b[1;32m---> 36\u001b[0m result \u001b[38;5;241m=\u001b[39m np\u001b[38;5;241m.\u001b[39mrandom\u001b[38;5;241m.\u001b[39mchoice([\u001b[38;5;241m0\u001b[39m, \u001b[38;5;241m1\u001b[39m], p\u001b[38;5;241m=\u001b[39mprobabilities)\n\u001b[0;32m     37\u001b[0m \u001b[38;5;28;01mreturn\u001b[39;00m result\n",
      "File \u001b[1;32mnumpy\\\\random\\\\mtrand.pyx:975\u001b[0m, in \u001b[0;36mnumpy.random.mtrand.RandomState.choice\u001b[1;34m()\u001b[0m\n",
      "\u001b[1;31mValueError\u001b[0m: probabilities do not sum to 1"
     ]
    }
   ],
   "source": [
    "import numpy as np\n",
    "\n",
    "def create_entangled_pair():\n",
    "    # Entangled state: |ψ⟩ = 1/√2 * (|00⟩ + |11⟩)\n",
    "    return np.array([1/np.sqrt(2), 0, 0, 1/np.sqrt(2)])\n",
    "\n",
    "\n",
    "def measure(qubit, basis):\n",
    "    if basis == 'Z':\n",
    "        # Z-basis measurement, using standard basis vectors\n",
    "        probabilities = [np.abs(qubit[0])**2, np.abs(qubit[3])**2]\n",
    "    \n",
    "    elif basis == 'X':\n",
    "        # Apply Hadamard transform to convert to X-basis\n",
    "        hadamard = np.array([[1, 1], [1, -1]]) / np.sqrt(2)\n",
    "        \n",
    "        # Since qubit is in a 4-dimensional state vector, we perform the Hadamard transform\n",
    "        # on each qubit of the entangled pair.\n",
    "        qubit_A = qubit[:2]  # |ψ⟩_A\n",
    "        qubit_B = qubit[2:]  # |ψ⟩_B\n",
    "\n",
    "        # Apply Hadamard transform to each qubit\n",
    "        transformed_A = hadamard @ qubit_A\n",
    "        transformed_B = hadamard @ qubit_B\n",
    "\n",
    "        # The new state after applying Hadamard transform\n",
    "        transformed_state = np.kron(transformed_A, transformed_B)\n",
    "        \n",
    "        # Measurement probabilities in X-basis\n",
    "        probabilities = [np.abs(transformed_state[0])**2, np.abs(transformed_state[3])**2]\n",
    "        print(probabilities)\n",
    "    else:\n",
    "        raise ValueError(\"Unknown basis. Supported bases: 'Z', 'X'.\")\n",
    "    \n",
    "    # Randomly choose the measurement result based on the calculated probabilities\n",
    "    result = np.random.choice([0, 1], p=probabilities)\n",
    "    return result\n",
    "\n",
    "# 测试这个函数\n",
    "qubit = create_entangled_pair()\n",
    "print(f\"Z 基测量结果: {measure(qubit, 'Z')}\")\n",
    "print(f\"X 基测量结果: {measure(qubit, 'X')}\")\n"
   ]
  },
  {
   "cell_type": "code",
   "execution_count": 9,
   "id": "02cb07c4-96cc-486d-ad0d-80b1905e19e8",
   "metadata": {},
   "outputs": [],
   "source": [
    "from qiskit import QuantumCircuit\n",
    "#from qiskit.providers.aer import Aer\n",
    "#from qiskit.execute import execute\n",
    "from qiskit.visualization import plot_histogram\n",
    "import matplotlib.pyplot as plt"
   ]
  },
  {
   "cell_type": "code",
   "execution_count": 11,
   "id": "df2e41ba-5707-4c91-81fe-00dde71f07a5",
   "metadata": {},
   "outputs": [
    {
     "ename": "ImportError",
     "evalue": "cannot import name 'Aer' from 'qiskit' (E:\\anaconda3\\Lib\\site-packages\\qiskit\\__init__.py)",
     "output_type": "error",
     "traceback": [
      "\u001b[1;31m---------------------------------------------------------------------------\u001b[0m",
      "\u001b[1;31mImportError\u001b[0m                               Traceback (most recent call last)",
      "Cell \u001b[1;32mIn[11], line 1\u001b[0m\n\u001b[1;32m----> 1\u001b[0m \u001b[38;5;28;01mfrom\u001b[39;00m \u001b[38;5;21;01mqiskit\u001b[39;00m \u001b[38;5;28;01mimport\u001b[39;00m  Aer\n",
      "\u001b[1;31mImportError\u001b[0m: cannot import name 'Aer' from 'qiskit' (E:\\anaconda3\\Lib\\site-packages\\qiskit\\__init__.py)"
     ]
    }
   ],
   "source": [
    "from qiskit import execute, Aer"
   ]
  },
  {
   "cell_type": "code",
   "execution_count": 17,
   "id": "c603bb9c-adc4-4212-a252-9e34c6341ec7",
   "metadata": {},
   "outputs": [
    {
     "name": "stdout",
     "output_type": "stream",
     "text": [
      "Both Z basis - Result:  00\n",
      "Both X basis - Result:  11\n",
      "Alice Z, Bob X - Result:  00\n",
      "Alice X, Bob Z - Result:  00\n"
     ]
    }
   ],
   "source": [
    "import numpy as np\n",
    "\n",
    "def create_bell_state():\n",
    "    \"\"\"Generate a Bell state |Φ+⟩ = (|00⟩ + |11⟩) / sqrt(2).\"\"\"\n",
    "    return np.array([1, 0, 0, 1]) / np.sqrt(2)\n",
    "\n",
    "def hadamard_transform(state):\n",
    "    \"\"\"Apply the Hadamard transform to a quantum state.\"\"\"\n",
    "    H = (1/np.sqrt(2)) * np.array([[1, 1], [1, -1]])\n",
    "    return np.kron(H, H).dot(state)\n",
    "\n",
    "def measure_state(state, basis_a, basis_b):\n",
    "    \"\"\"Measure a state in given bases for Alice and Bob.\"\"\"\n",
    "    # Apply basis transformations\n",
    "    if basis_a == 'X':\n",
    "        state = np.kron(np.array([[1, 1], [1, -1]]) / np.sqrt(2), np.eye(2)).dot(state)\n",
    "    if basis_b == 'X':\n",
    "        state = np.kron(np.eye(2), np.array([[1, 1], [1, -1]]) / np.sqrt(2)).dot(state)\n",
    "\n",
    "    # Measure the state in the computational basis\n",
    "    probabilities = np.abs(state)**2\n",
    "    results = ['00', '01', '10', '11']\n",
    "    result_index = np.random.choice(len(results), p=probabilities)\n",
    "    return results[result_index]\n",
    "\n",
    "# Generate a Bell state\n",
    "bell_state = create_bell_state()\n",
    "\n",
    "# Measure in same and different bases\n",
    "result_zz = measure_state(bell_state, 'Z', 'Z')  # Both Z\n",
    "result_xx = measure_state(hadamard_transform(bell_state), 'X', 'X')  # Both X\n",
    "result_zx = measure_state(bell_state, 'Z', 'X')  # Alice Z, Bob X\n",
    "result_xz = measure_state(bell_state, 'X', 'Z')  # Alice X, Bob Z\n",
    "\n",
    "# Print results\n",
    "print(\"Both Z basis - Result: \", result_zz)\n",
    "print(\"Both X basis - Result: \", result_xx)\n",
    "print(\"Alice Z, Bob X - Result: \", result_zx)\n",
    "print(\"Alice X, Bob Z - Result: \", result_xz)\n"
   ]
  },
  {
   "cell_type": "code",
   "execution_count": 31,
   "id": "59f95d86-fad8-4ae5-b717-0a37d34f1e0e",
   "metadata": {},
   "outputs": [
    {
     "name": "stdout",
     "output_type": "stream",
     "text": [
      "[1. 0. 0. 0.]\n"
     ]
    }
   ],
   "source": [
    "import numpy as np\n",
    "\n",
    "def eavesdrop(state):\n",
    "    \"\"\"Simulate Eve's random measurement in either the Z or X basis, collapsing the state.\"\"\"\n",
    "    basis = np.random.choice(['Z', 'X'])\n",
    "    if basis == 'Z':\n",
    "        # Eve measures in Z basis, resulting state collapses to |00⟩ or |11⟩\n",
    "        result = np.random.choice(['00', '11'])\n",
    "        index = {'00': 0, '11': 3}[result]\n",
    "    else:\n",
    "        # Eve measures in X basis, resulting state collapses to |++⟩ or |--⟩\n",
    "        result = np.random.choice(['++', '--'])\n",
    "        # State in X basis, results correlated as |++⟩ = (|00⟩ + |01⟩ + |10⟩ + |11⟩) / 2\n",
    "        #                              |--⟩ = (|00⟩ - |01⟩ - |10⟩ + |11⟩) / 2\n",
    "        if result == '++':\n",
    "            new_state = np.array([1, 1, 1, 1]) / 2\n",
    "        else:\n",
    "            new_state = np.array([1, -1, -1, 1]) / 2\n",
    "        # Convert back to the standard basis if necessary\n",
    "        H = np.array([[1, 1], [1, -1]]) / np.sqrt(2)\n",
    "        state = np.kron(H, H).dot(new_state)  # Apply inverse Hadamard to both qubits\n",
    "        probabilities = np.abs(state)**2\n",
    "        result_index = np.random.choice(len(probabilities), p=probabilities)\n",
    "        new_state = np.zeros(4)\n",
    "        new_state[result_index] = 1\n",
    "        return new_state\n",
    "\n",
    "    # Collapse the original state based on Eve's measurement\n",
    "    new_state = np.zeros(4)\n",
    "    new_state[index] = 1\n",
    "    return new_state\n",
    "\n",
    "# Example usage\n",
    "bell_state = np.array([1, 0, 0, 1]) / np.sqrt(2)  # Create a Bell state\n",
    "state_post_eve = eavesdrop(bell_state)  # Eve eavesdrops\n",
    "print(state_post_eve)\n"
   ]
  },
  {
   "cell_type": "code",
   "execution_count": 50,
   "id": "550a87e3-0321-4cc9-bee4-99d3a22010db",
   "metadata": {},
   "outputs": [
    {
     "name": "stdout",
     "output_type": "stream",
     "text": [
      "Without Eve - Result:  00\n",
      "With Eve - Result:  00\n"
     ]
    }
   ],
   "source": [
    "import numpy as np\n",
    "\n",
    "def create_bell_state():\n",
    "    \"\"\"Generate a Bell state |Φ+⟩ = (|00⟩ + |11⟩) / sqrt(2).\"\"\"\n",
    "    return np.array([1, 0, 0, 1]) / np.sqrt(2)\n",
    "\n",
    "def hadamard_transform(state):\n",
    "    \"\"\"Apply the Hadamard transform to a quantum state.\"\"\"\n",
    "    H = (1/np.sqrt(2)) * np.array([[1, 1], [1, -1]])\n",
    "    return np.kron(H, H).dot(state)\n",
    "\n",
    "def eavesdrop(state):\n",
    "    \"\"\"Simulate Eve's random measurement in either the Z or X basis, collapsing the state.\"\"\"\n",
    "    basis = np.random.choice(['Z', 'X'])\n",
    "    if basis == 'Z':\n",
    "        # Eve measures in Z basis, resulting state collapses to |00⟩ or |11⟩\n",
    "        result = np.random.choice(['00', '11'])\n",
    "        index = {'00': 0, '11': 3}[result]\n",
    "    else:\n",
    "        # Eve measures in X basis, resulting state collapses to |++⟩ or |--⟩\n",
    "        result = np.random.choice(['++', '--'])\n",
    "        # State in X basis, results correlated as |++⟩ = (|00⟩ + |01⟩ + |10⟩ + |11⟩) / 2\n",
    "        #                              |--⟩ = (|00⟩ - |01⟩ - |10⟩ + |11⟩) / 2\n",
    "        if result == '++':\n",
    "            new_state = np.array([1, 1, 1, 1]) / 2\n",
    "        else:\n",
    "            new_state = np.array([1, -1, -1, 1]) / 2\n",
    "        # Convert back to the standard basis if necessary\n",
    "        H = np.array([[1, 1], [1, -1]]) / np.sqrt(2)\n",
    "        state = np.kron(H, H).dot(new_state)  # Apply inverse Hadamard to both qubits\n",
    "        probabilities = np.abs(state)**2\n",
    "        result_index = np.random.choice(len(probabilities), p=probabilities)\n",
    "        new_state = np.zeros(4)\n",
    "        new_state[result_index] = 1\n",
    "        return new_state\n",
    "\n",
    "    # Collapse the original state based on Eve's measurement\n",
    "    new_state = np.zeros(4)\n",
    "    new_state[index] = 1\n",
    "    return new_state\n",
    "\n",
    "\n",
    "\n",
    "def measure_state(state, basis_a, basis_b):\n",
    "    \"\"\"Measure a state in given bases for Alice and Bob.\"\"\"\n",
    "    if basis_a == 'X':\n",
    "        state = np.kron(np.array([[1, 1], [1, -1]]) / np.sqrt(2), np.eye(2)).dot(state)\n",
    "    if basis_b == 'X':\n",
    "        state = np.kron(np.eye(2), np.array([[1, 1], [1, -1]]) / np.sqrt(2)).dot(state)\n",
    "    probabilities = np.abs(state)**2\n",
    "    results = ['00', '01', '10', '11']\n",
    "    result_index = np.random.choice(len(results), p=probabilities)\n",
    "    return results[result_index]\n",
    "\n",
    "\n",
    "# Generate a Bell state\n",
    "bell_state = create_bell_state()\n",
    "\n",
    "# Measure without eavesdropping\n",
    "result_no_eve = measure_state(bell_state, 'Z', 'Z')\n",
    "\n",
    "# Introduce eavesdropping\n",
    "state_post_eve = eavesdrop(bell_state)\n",
    "result_with_eve = measure_state(state_post_eve, 'Z', 'Z')\n",
    "\n",
    "# Print results\n",
    "print(\"Without Eve - Result: \", result_no_eve)\n",
    "print(\"With Eve - Result: \", result_with_eve)\n"
   ]
  },
  {
   "cell_type": "code",
   "execution_count": 46,
   "id": "c02699e1-b5c1-42cb-8984-6617bfec9b42",
   "metadata": {},
   "outputs": [
    {
     "name": "stdout",
     "output_type": "stream",
     "text": [
      "Both Z basis - Result:  11\n",
      "Both X basis - Result:  11\n",
      "Alice Z, Bob X - Result:  11\n",
      "Alice X, Bob Z - Result:  11\n"
     ]
    }
   ],
   "source": [
    "import numpy as np\n",
    "\n",
    "def create_bell_state():\n",
    "    \"\"\"Generate a Bell state |Φ+⟩ = (|00⟩ + |11⟩) / sqrt(2).\"\"\"\n",
    "    return np.array([1, 0, 0, 1]) / np.sqrt(2)\n",
    "\n",
    "def hadamard_transform(state):\n",
    "    \"\"\"Apply the Hadamard transform to a quantum state.\"\"\"\n",
    "    H = (1/np.sqrt(2)) * np.array([[1, 1], [1, -1]])\n",
    "    return np.kron(H, H).dot(state)\n",
    "\n",
    "def measure_state(state, basis_a, basis_b):\n",
    "    \"\"\"Measure a state in given bases for Alice and Bob.\"\"\"\n",
    "    # Apply basis transformations\n",
    "    if basis_a == 'X':\n",
    "        state = np.kron(np.array([[1, 1], [1, -1]]) / np.sqrt(2), np.eye(2)).dot(state)\n",
    "    if basis_b == 'X':\n",
    "        state = np.kron(np.eye(2), np.array([[1, 1], [1, -1]]) / np.sqrt(2)).dot(state)\n",
    "\n",
    "    # Measure the state in the computational basis\n",
    "    probabilities = np.abs(state)**2\n",
    "    results = ['00', '01', '10', '11']\n",
    "    result_index = np.random.choice(len(results), p=probabilities)\n",
    "    return results[result_index]\n",
    "\n",
    "# Generate a Bell state\n",
    "bell_state = create_bell_state()\n",
    "\n",
    "# Measure in same and different bases\n",
    "result_zz = measure_state(bell_state, 'Z', 'Z')  # Both Z\n",
    "result_xx = measure_state(hadamard_transform(bell_state), 'X', 'X')  # Both X\n",
    "result_zx = measure_state(bell_state, 'Z', 'X')  # Alice Z, Bob X\n",
    "result_xz = measure_state(bell_state, 'X', 'Z')  # Alice X, Bob Z\n",
    "\n",
    "# Print results\n",
    "print(\"Both Z basis - Result: \", result_zz)\n",
    "print(\"Both X basis - Result: \", result_xx)\n",
    "print(\"Alice Z, Bob X - Result: \", result_zx)\n",
    "print(\"Alice X, Bob Z - Result: \", result_xz)\n"
   ]
  },
  {
   "cell_type": "code",
   "execution_count": 18,
   "id": "52168d46-d065-48f8-a9ba-57575b2e1264",
   "metadata": {},
   "outputs": [
    {
     "name": "stdout",
     "output_type": "stream",
     "text": [
      "Without Eve - Result:  01\n",
      "With Eve - Result:  01\n"
     ]
    }
   ],
   "source": [
    "import numpy as np\n",
    "\n",
    "\n",
    "import numpy as np\n",
    "\n",
    "def create_bell_state():\n",
    "    \"\"\"Generate a Bell state |Φ+⟩ = (|00⟩ + |11⟩) / sqrt(2).\"\"\"\n",
    "    return np.array([1, 0, 0, 1]) / np.sqrt(2)\n",
    "\n",
    "def hadamard_transform(state):\n",
    "    \"\"\"Apply the Hadamard transform to a quantum state.\"\"\"\n",
    "    H = (1/np.sqrt(2)) * np.array([[1, 1], [1, -1]])\n",
    "    return np.kron(H, H).dot(state)\n",
    "\n",
    "def eavesdrop(state):\n",
    "    \"\"\"Simulate Eve's random measurement in either the Z or X basis, affecting entanglement.\"\"\"\n",
    "    basis = np.random.choice(['Z', 'X'])\n",
    "    if basis == 'Z':\n",
    "        # Eve measures in Z basis, resulting state collapses randomly to |0⟩ or |1⟩ for one qubit\n",
    "        if np.random.rand() > 0.5:\n",
    "            # Collapse Alice's qubit to |0⟩\n",
    "            state = np.array([1, 0, 0, 0]) if np.random.rand() > 0.5 else np.array([0, 1, 0, 0])\n",
    "        else:\n",
    "            # Collapse Alice's qubit to |1⟩\n",
    "            state = np.array([0, 0, 1, 0]) if np.random.rand() > 0.5 else np.array([0, 0, 0, 1])\n",
    "    else:\n",
    "        # Eve measures in X basis, similarly collapse Alice's qubit randomly\n",
    "        H = np.array([[1, 1], [1, -1]]) / np.sqrt(2)\n",
    "        plus_state = np.array([1, 1, 1, 1]) / 2 if np.random.rand() > 0.5 else np.array([1, -1, 1, -1]) / 2\n",
    "        minus_state = np.array([1, 1, -1, -1]) / 2 if np.random.rand() > 0.5 else np.array([1, -1, -1, 1]) / 2\n",
    "        state = np.kron(H, np.eye(2)).dot(plus_state if np.random.rand() > 0.5 else minus_state)\n",
    "    return state\n",
    "\n",
    "def measure_state(state, basis_a, basis_b):\n",
    "    \"\"\"Measure a state in given bases for Alice and Bob.\"\"\"\n",
    "    if basis_a == 'X':\n",
    "        state = np.kron(np.array([[1, 1], [1, -1]]) / np.sqrt(2), np.eye(2)).dot(state)\n",
    "    if basis_b == 'X':\n",
    "        state = np.kron(np.eye(2), np.array([[1, 1], [1, -1]]) / np.sqrt(2)).dot(state)\n",
    "    probabilities = np.abs(state)**2\n",
    "    results = ['00', '01', '10', '11']\n",
    "    result_index = np.random.choice(len(results), p=probabilities)\n",
    "    return results[result_index]\n",
    "\n",
    "\n",
    "# Generate a Bell state\n",
    "bell_state = create_bell_state()\n",
    "\n",
    "# Measure without eavesdropping\n",
    "result_no_eve = measure_state(bell_state, 'X', 'Z')\n",
    "\n",
    "# Introduce eavesdropping\n",
    "state_post_eve = eavesdrop(bell_state)\n",
    "result_with_eve = measure_state(state_post_eve, 'X', 'Z')\n",
    "\n",
    "# Print results\n",
    "print(\"Without Eve - Result: \", result_no_eve)\n",
    "print(\"With Eve - Result: \", result_with_eve)"
   ]
  },
  {
   "cell_type": "code",
   "execution_count": 43,
   "id": "5056ecb0-8f86-41ac-9750-ed7f4d76ac4a",
   "metadata": {},
   "outputs": [
    {
     "name": "stdout",
     "output_type": "stream",
     "text": [
      "Measurement result: 00\n"
     ]
    }
   ],
   "source": [
    "import numpy as np\n",
    "\n",
    "def create_bell_state():\n",
    "    \"\"\"Generate a Bell state |Φ+⟩ = (|00⟩ + |11⟩) / sqrt(2).\"\"\"\n",
    "    return np.array([1, 0, 0, 1]) / np.sqrt(2)\n",
    "\n",
    "def apply_noise(state, snr, loss):\n",
    "    \"\"\"Apply thermal noise and loss to the quantum state.\"\"\"\n",
    "    noise = np.random.normal(0, 1/snr, size=state.shape)  # Gaussian noise based on SNR\n",
    "    loss_factor = np.exp(-loss)  # Exponential decay to simulate photon loss\n",
    "    return state * loss_factor + noise\n",
    "\n",
    "def measure_state(state):\n",
    "    \"\"\"Measure the quantum state in the computational basis.\"\"\"\n",
    "    probabilities = np.abs(state)**2\n",
    "    probabilities /= np.sum(probabilities)  # Normalize probabilities\n",
    "    results = ['00', '01', '10', '11']\n",
    "    result_index = np.random.choice(len(results), p=probabilities)\n",
    "    return results[result_index]\n",
    "\n",
    "# Simulation parameters\n",
    "snr = 0.0001  # Signal to noise ratio, higher is better\n",
    "loss = 0.5  # Loss factor, higher means more loss\n",
    "\n",
    "# Generate a Bell state\n",
    "bell_state = create_bell_state()\n",
    "\n",
    "# Apply noise and loss to the state\n",
    "noisy_state = apply_noise(bell_state, snr, loss)\n",
    "\n",
    "# Measure the state\n",
    "measurement_result = measure_state(noisy_state)\n",
    "print(\"Measurement result:\", measurement_result)\n"
   ]
  },
  {
   "cell_type": "code",
   "execution_count": null,
   "id": "1c0d9233-40a5-4b9c-a893-1b3cd9333576",
   "metadata": {},
   "outputs": [],
   "source": []
  }
 ],
 "metadata": {
  "kernelspec": {
   "display_name": "Python 3 (ipykernel)",
   "language": "python",
   "name": "python3"
  },
  "language_info": {
   "codemirror_mode": {
    "name": "ipython",
    "version": 3
   },
   "file_extension": ".py",
   "mimetype": "text/x-python",
   "name": "python",
   "nbconvert_exporter": "python",
   "pygments_lexer": "ipython3",
   "version": "3.11.7"
  }
 },
 "nbformat": 4,
 "nbformat_minor": 5
}
