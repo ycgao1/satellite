{
 "cells": [
  {
   "cell_type": "code",
   "execution_count": 4,
   "id": "0222e563-4bda-49b6-acf6-fb60b4c5868d",
   "metadata": {},
   "outputs": [],
   "source": [
    "import numpy as np\n",
    "from scipy.stats import pearsonr\n",
    "from fastdtw import fastdtw\n",
    "from scipy.spatial.distance import euclidean\n",
    "import pandas as pd\n",
    "import matplotlib.pyplot as plt"
   ]
  },
  {
   "cell_type": "code",
   "execution_count": 2,
   "id": "fc49435e-8687-451d-9412-198eefe85e28",
   "metadata": {},
   "outputs": [],
   "source": [
    "# Function to parse TLE epoch\n",
    "def parse_tle_epoch(epoch):\n",
    "    year = int(epoch[:2])\n",
    "    if year < 57:\n",
    "        year += 2000\n",
    "    else:\n",
    "        year += 1900\n",
    "    day_of_year = float(epoch[2:])\n",
    "    day = int(day_of_year)\n",
    "    fractional_day = day_of_year - day\n",
    "    date = datetime(year, 1, 1, tzinfo=timezone.utc) + timedelta(days=day - 1)\n",
    "    time_of_day = timedelta(days=fractional_day)\n",
    "    return date + time_of_day"
   ]
  },
  {
   "cell_type": "code",
   "execution_count": 3,
   "id": "e24b85ba-3568-43c0-a4d2-6067c4e2eeab",
   "metadata": {},
   "outputs": [],
   "source": [
    "# Load TLE data for all satellites and calculate update intervals\n",
    "directory = 'Starlink_TLE/Single_Satellite_TLE'\n",
    "all_time_intervals = []\n"
   ]
  },
  {
   "cell_type": "code",
   "execution_count": null,
   "id": "f6b30b08-435f-4028-b725-bcdf6b15ba9c",
   "metadata": {},
   "outputs": [],
   "source": []
  }
 ],
 "metadata": {
  "kernelspec": {
   "display_name": "Python 3 (ipykernel)",
   "language": "python",
   "name": "python3"
  },
  "language_info": {
   "codemirror_mode": {
    "name": "ipython",
    "version": 3
   },
   "file_extension": ".py",
   "mimetype": "text/x-python",
   "name": "python",
   "nbconvert_exporter": "python",
   "pygments_lexer": "ipython3",
   "version": "3.11.7"
  }
 },
 "nbformat": 4,
 "nbformat_minor": 5
}
