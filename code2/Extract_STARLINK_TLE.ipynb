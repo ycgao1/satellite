{
 "cells": [
  {
   "cell_type": "markdown",
   "id": "48504ac2-10bc-467d-b2f4-686e2671803f",
   "metadata": {},
   "source": [
    " Get History TLE data"
   ]
  },
  {
   "cell_type": "code",
   "execution_count": 1,
   "id": "15f64379-a660-4f89-a5d3-bddc20af7885",
   "metadata": {},
   "outputs": [],
   "source": [
    "import os\n",
    "from datetime import datetime, timedelta, timezone\n",
    "from skyfield.api import load, Topos, EarthSatellite\n",
    "import matplotlib.pyplot as plt\n",
    "\n",
    "# all satellite TLE directory\n",
    "directory = 'TLE_data/'\n",
    "output_file = \"Starlink_TLE/TLE_history.txt\""
   ]
  },
  {
   "cell_type": "code",
   "execution_count": 2,
   "id": "0359801a-69eb-4141-8c72-cd2ea9edc6c1",
   "metadata": {},
   "outputs": [],
   "source": [
    "def parse_tle_epoch(epoch):\n",
    "    year = int(epoch[:2])\n",
    "    if year < 57:\n",
    "        year += 2000\n",
    "    else:\n",
    "        year += 1900\n",
    "    day_of_year = float(epoch[2:])\n",
    "    day = int(day_of_year)\n",
    "    fractional_day = day_of_year - day\n",
    "    date = datetime(year, 1, 1, tzinfo=timezone.utc) + timedelta(days=day - 1)\n",
    "    time_of_day = timedelta(days=fractional_day)\n",
    "    return date + time_of_day\n",
    "\n"
   ]
  },
  {
   "cell_type": "code",
   "execution_count": 3,
   "id": "e9b40ca0-ba1d-471c-ab35-df52ce499aa5",
   "metadata": {},
   "outputs": [],
   "source": [
    "# checj if TLE in the time range\n",
    "def is_tle_in_date_range(tle, start_date, end_date):\n",
    "    epoch = tle.split()[3]\n",
    "    tle_time = parse_tle_epoch(epoch)\n",
    "    return start_date <= tle_time <= end_date"
   ]
  },
  {
   "cell_type": "code",
   "execution_count": 4,
   "id": "b6084302-ae43-4601-ad4b-7b2a314358ea",
   "metadata": {},
   "outputs": [],
   "source": [
    "# Dictyionary to store all starlink TLE data\n",
    "starlink_tle_data = {}\n",
    "\n",
    "# define time range\n",
    "start_date = datetime(2021, 1, 1, tzinfo=timezone.utc)\n",
    "end_date = datetime(2024, 5, 31, tzinfo=timezone.utc)\n",
    "\n",
    "# search all TLE data in history\n",
    "for filename in os.listdir(directory):\n",
    "    if filename.startswith('satellite_TLE'):\n",
    "        filepath = os.path.join(directory, filename)\n",
    "        #print(filepath)\n",
    "\n",
    "        # read file content\n",
    "        with open(filepath, 'r') as file:\n",
    "            lines = file.readlines()\n",
    "            \n",
    "            # extract starlink satellite TLE\n",
    "            i = 0\n",
    "            while i < len(lines):\n",
    "                if lines[i].startswith('0 STARLINK'):\n",
    "                    satellite_name = lines[i].strip().split(' ', 1)[1]  # remove the beginning number and space\n",
    "                    tle1 = lines[i+1].strip()\n",
    "                    tle2 = lines[i+2].strip()\n",
    "                    if is_tle_in_date_range(tle1, start_date, end_date):\n",
    "                        if satellite_name not in starlink_tle_data:\n",
    "                            starlink_tle_data[satellite_name] = []\n",
    "                        starlink_tle_data[satellite_name].append(f'{satellite_name}\\n{tle1}\\n{tle2}\\n')\n",
    "                    i += 3\n",
    "                else:\n",
    "                    i += 1"
   ]
  },
  {
   "cell_type": "code",
   "execution_count": 5,
   "id": "70194562-6616-4129-ab3e-0bb1e883d0ac",
   "metadata": {},
   "outputs": [
    {
     "name": "stdout",
     "output_type": "stream",
     "text": [
      "All Starlink TLE data has been saved to Starlink_TLE/TLE_history.txt\n"
     ]
    }
   ],
   "source": [
    "# save all starlink satellite into a new satellite file\n",
    "with open(output_file, 'w') as output:\n",
    "    for satellite_name, tles in starlink_tle_data.items():\n",
    "        for tle in tles:\n",
    "            output.write(tle)\n",
    "\n",
    "print(f'All Starlink TLE data has been saved to {output_file}')"
   ]
  },
  {
   "cell_type": "code",
   "execution_count": 5,
   "id": "b6adb001-95c8-493c-80f4-2fe4a7bfe22a",
   "metadata": {},
   "outputs": [
    {
     "name": "stdout",
     "output_type": "stream",
     "text": [
      "All Starlink TLE data has been saved to Starlink_TLE/Single_Satellite_TLE\n"
     ]
    }
   ],
   "source": [
    "# Create output directory if it doesn't exist\n",
    "output_directory = 'Starlink_TLE/Single_Satellite_TLE'\n",
    "os.makedirs(output_directory, exist_ok=True)\n",
    "\n",
    "# Save each satellite's TLE data to a separate file\n",
    "for satellite_name, tles in starlink_tle_data.items():\n",
    "    output_file_path = os.path.join(output_directory, f'{satellite_name}.txt')\n",
    "    with open(output_file_path, 'w') as output_file:\n",
    "        for tle in tles:\n",
    "            output_file.write(tle)\n",
    "\n",
    "print(f'All Starlink TLE data has been saved to {output_directory}')"
   ]
  },
  {
   "cell_type": "markdown",
   "id": "53b7cdd2-9ef0-45c4-a01a-f6069c8a4323",
   "metadata": {},
   "source": [
    "# Observe the satellites from specific location, time"
   ]
  },
  {
   "cell_type": "code",
   "execution_count": 6,
   "id": "1bb1deed-eb1a-454b-a6ba-9c761201877f",
   "metadata": {},
   "outputs": [],
   "source": [
    "def get_latest_tle(tle_list, target_time):\n",
    "    latest_tle = None\n",
    "    latest_time = None\n",
    "    for tle in tle_list:\n",
    "        epoch = tle.split()[4]\n",
    "        #print(epoch)\n",
    "        tle_time = parse_tle_epoch(epoch)\n",
    "        if tle_time <= target_time:\n",
    "            if latest_time is None or tle_time > latest_time:\n",
    "                latest_tle = tle\n",
    "                latest_time = tle_time\n",
    "    return latest_tle"
   ]
  },
  {
   "cell_type": "code",
   "execution_count": 10,
   "id": "37da4410-a835-4d36-8a76-b2c4c6bbf29d",
   "metadata": {},
   "outputs": [],
   "source": [
    "# 定义时间和地点\n",
    "ts = load.timescale()\n",
    "columbus = Topos('39.9612 N', '82.9988 W')\n",
    "target_time = ts.utc(2024, 2, 1, 0, 0, 0)  # 例如2024年5月1日12:00 UTC"
   ]
  },
  {
   "cell_type": "code",
   "execution_count": 11,
   "id": "d7ae7ad1-c5f3-42b9-9c04-10f1e61f5336",
   "metadata": {},
   "outputs": [],
   "source": [
    "# calculate every satellite's azimuth and degree\n",
    "visible_satellites = []\n",
    "for satellite_name, tles in starlink_tle_data.items():\n",
    "    latest_tle = get_latest_tle(tles, target_time.utc_datetime())\n",
    "    if latest_tle:\n",
    "        #print(satellite_name)\n",
    "        satellite = EarthSatellite(latest_tle.split('\\n')[1], latest_tle.split('\\n')[2], satellite_name, ts)\n",
    "        difference = satellite - columbus\n",
    "        topocentric = difference.at(target_time)\n",
    "        alt, az, distance = topocentric.altaz()\n",
    "\n",
    "        if alt.degrees > 0:  # 仅显示在地平线以上的卫星\n",
    "            visible_satellites.append((satellite_name, az.degrees, alt.degrees, distance.km))"
   ]
  },
  {
   "cell_type": "code",
   "execution_count": 12,
   "id": "42580ce8-0669-4c14-b114-ce0fde31dffa",
   "metadata": {},
   "outputs": [
    {
     "data": {
      "text/plain": [
       "295"
      ]
     },
     "execution_count": 12,
     "metadata": {},
     "output_type": "execute_result"
    }
   ],
   "source": [
    "len(visible_satellites)"
   ]
  },
  {
   "cell_type": "code",
   "execution_count": 16,
   "id": "52e106db-70bf-436f-af7e-5654adffa803",
   "metadata": {},
   "outputs": [],
   "source": [
    "# 计算每颗卫星的海拔\n",
    "altitudes = []\n",
    "for satellite_name, tles in starlink_tle_data.items():\n",
    "    latest_tle = get_latest_tle(tles, target_time.utc_datetime())\n",
    "    if latest_tle:\n",
    "        #print(satellite_name)\n",
    "        satellite = EarthSatellite(latest_tle.split('\\n')[1], latest_tle.split('\\n')[2], satellite_name, ts)\n",
    "        geocentric = satellite.at(target_time)\n",
    "        subpoint = geocentric.subpoint()\n",
    "        altitude = subpoint.elevation.km  # 获取海拔高度（km）\n",
    "        altitudes.append(altitude)\n",
    "\n",
    "\n"
   ]
  },
  {
   "cell_type": "code",
   "execution_count": 18,
   "id": "4ad2853e-ef60-47dc-9cdd-ed4aa4991141",
   "metadata": {},
   "outputs": [
    {
     "data": {
      "image/png": "[encoded data removed]",
      "text/plain": [
       "<Figure size 1000x600 with 1 Axes>"
      ]
     },
     "metadata": {},
     "output_type": "display_data"
    }
   ],
   "source": [
    "# 绘制海拔分布图\n",
    "plt.figure(figsize=(10, 6))\n",
    "plt.hist(altitudes, bins=500, color='blue', edgecolor='black')\n",
    "plt.title('Altitude Distribution of Starlink Satellites (2024-01-01 00:00 UTC)')\n",
    "plt.xlabel('Altitude (km)')\n",
    "plt.ylabel('Number of Satellites')\n",
    "plt.grid(True)\n",
    "plt.show()"
   ]
  },
  {
   "cell_type": "code",
   "execution_count": 19,
   "id": "c743ec06-54a0-4407-a566-13be0a2e5292",
   "metadata": {},
   "outputs": [
    {
     "data": {
      "text/plain": [
       "['STARLINK-31824\\n1 59804U 24093Y   24143.58334491 -.00888116  25058-3 -22071-2 0  9996\\n2 59804  43.0039 353.0355 0001702 271.5798 169.1955 15.94919607  1851\\n',\n",
       " 'STARLINK-31824\\n1 59804U 24093Y   24143.91667824 -.00889903  25000-3 -22831-2 0  9998\\n2 59804  43.0036 350.9572 0001717 278.8996 277.8084 15.94327275  1901\\n',\n",
       " 'STARLINK-31824\\n1 59804U 24093Y   24144.25001157 -.00949256  27967-3 -25091-2 0  9990\\n2 59804  43.0038 348.8751 0002032 276.2307  35.6915 15.93777746  1956\\n',\n",
       " 'STARLINK-31824\\n1 59804U 24093Y   24144.58334491 -.00894867  24963-3 -24425-2 0  9996\\n2 59804  43.0034 346.7986 0001720 282.9541 143.4977 15.93163712  2023\\n',\n",
       " 'STARLINK-31824\\n1 59804U 24093Y   24144.83335648 -.00916679  25970-3 -25609-2 0  9999\\n2 59804  43.0032 345.2437 0001544 281.1562 140.7880 15.92726633  2067\\n',\n",
       " 'STARLINK-31824\\n1 59804U 24093Y   24145.25001157 -.00950040  27527-3 -27551-2 0  9999\\n2 59804  43.0032 342.6479 0001959 274.8889  18.4763 15.92017336  2115\\n',\n",
       " 'STARLINK-31824\\n1 59804U 24093Y   24145.58334491 -.00904554  25024-3 -27064-2 0  9993\\n2 59804  43.0027 340.5772 0001875 272.4156 133.3583 15.91408372  2187\\n',\n",
       " 'STARLINK-31824\\n1 59804U 24093Y   24145.91667824 -.00787973  00000-0 -26512-2 0  9994\\n2 59804  43.0028 338.5091 0001925 266.6127 250.8630 15.90794797  2229\\n',\n",
       " 'STARLINK-31824\\n1 59804U 24093Y   24146.58334491 -.00836007  00000-0 -29991-2 0  9996\\n2 59804  43.0028 334.3728 0002188 274.3656 104.3746 15.89653128  2338\\n',\n",
       " 'STARLINK-31824\\n1 59804U 24093Y   24147.58334491 -.00822431  00000-0 -32232-2 0  9995\\n2 59804  43.0016 328.1814 0001721 266.4034  78.9545 15.87883794  2498\\n',\n",
       " 'STARLINK-31824\\n1 59804U 24093Y   24147.91667824 -.00818406  00000-0 -33021-2 0  9995\\n2 59804  43.0014 326.1234 0001528 274.9709 177.8451 15.87295254  2558\\n',\n",
       " 'STARLINK-31824\\n1 59804U 24093Y   24148.58334491 -.00027392  00000-0 -10576-3 0  9997\\n2 59804  43.0003 322.0075 0001449 269.2089  36.4236 15.85976426  2640\\n',\n",
       " 'STARLINK-31824\\n1 59804U 24093Y   24148.91667824  .00124391  00000-0  48526-3 0  9994\\n2 59804  43.0001 319.9538 0001606 280.3867 130.7565 15.85934290  2714\\n',\n",
       " 'STARLINK-31824\\n1 59804U 24093Y   24149.25001157  .00044941  00000-0  17761-3 0  9992\\n2 59804  42.9999 317.8975 0001721 273.6353 243.0215 15.86018181  2750\\n',\n",
       " 'STARLINK-31824\\n1 59804U 24093Y   24149.58334491  .04761533  28544-1  14566-1 0  9997\\n2 59804  42.9959 315.8135 0010650 305.2075 329.8603 15.94590080  2808\\n',\n",
       " 'STARLINK-31824\\n1 59804U 24093Y   24149.91668981 -.00771568  00000-0 -36830-2 0  9990\\n2 59804  43.0020 313.8051 0001278 266.4539  96.3609 15.83752235  2861\\n',\n",
       " 'STARLINK-31824\\n1 59804U 24093Y   24150.58335648 -.00834040  00000-0 -42350-2 0  9995\\n2 59804  43.0015 309.7122 0001239 272.8344 294.3028 15.82610863  2965\\n',\n",
       " 'STARLINK-31824\\n1 59804U 24093Y   24150.91668981 -.00770681  00000-0 -39991-2 0  9998\\n2 59804  43.0016 307.6690 0001654 283.5465  24.6993 15.81991990  3033\\n',\n",
       " 'STARLINK-31824\\n1 59804U 24093Y   24151.58334491 -.00842414  00000-0 -46507-2 0  9993\\n2 59804  43.0013 303.5870 0001202 272.5900 235.6756 15.80854622  3148\\n',\n",
       " 'STARLINK-31824\\n1 59804U 24093Y   24151.83334491 -.00767119  00000-0 -42921-2 0  9995\\n2 59804  43.0014 302.0585 0001651 285.1164 207.4649 15.80371896  3163\\n',\n",
       " 'STARLINK-31824\\n1 59804U 24093Y   24151.91668981 -.00781032  00000-0 -44038-2 0  9999\\n2 59804  43.0012 301.5482 0001758 282.7347 324.5853 15.80239711  3195\\n']"
      ]
     },
     "execution_count": 19,
     "metadata": {},
     "output_type": "execute_result"
    }
   ],
   "source": [
    "tles"
   ]
  },
  {
   "cell_type": "code",
   "execution_count": null,
   "id": "df737e7f-2252-43f1-9606-6867209b9961",
   "metadata": {},
   "outputs": [],
   "source": []
  },
  {
   "cell_type": "code",
   "execution_count": null,
   "id": "cd6782e1-aef0-4f1f-baf7-21607718f9ea",
   "metadata": {},
   "outputs": [],
   "source": []
  },
  {
   "cell_type": "code",
   "execution_count": null,
   "id": "cf81efd1-0967-4c65-aa7c-7a0bcf3b7142",
   "metadata": {},
   "outputs": [],
   "source": []
  },
  {
   "cell_type": "code",
   "execution_count": null,
   "id": "ed3b653d-e643-4cae-bf15-e88f4e1dc2a6",
   "metadata": {},
   "outputs": [],
   "source": []
  },
  {
   "cell_type": "code",
   "execution_count": null,
   "id": "0ca93ea0-5385-4a35-b670-c2faa31540e9",
   "metadata": {},
   "outputs": [],
   "source": []
  },
  {
   "cell_type": "code",
   "execution_count": null,
   "id": "788049a5-f6dd-40a0-a213-5966f97e0c2d",
   "metadata": {},
   "outputs": [],
   "source": []
  },
  {
   "cell_type": "code",
   "execution_count": 13,
   "id": "4342bb62-3a14-4b31-977e-e52de4893770",
   "metadata": {},
   "outputs": [
    {
     "name": "stdout",
     "output_type": "stream",
     "text": [
      "STARLINK-1007\n",
      "1 44713U 19074A   24123.31941321  .00002843  00000-0  20960-3 0  9993\n",
      "2 44713  53.0545 342.9614 0000908  88.5240 271.5853 15.06406425246978\n",
      "\n",
      "Satellite: STARLINK-1007\n",
      "Latitude: 2.722380 degrees\n",
      "Longitude: 27.848933 degrees\n"
     ]
    }
   ],
   "source": [
    "# 获取特定卫星在特定时间的正下方经纬度\n",
    "satellite_name = 'STARLINK-1007'  # 例如，指定卫星名称\n",
    "tles = starlink_tle_data.get(satellite_name)\n",
    "\n",
    "if tles:\n",
    "    latest_tle = get_latest_tle(tles, target_time.utc_datetime())\n",
    "    print(latest_tle)\n",
    "    if latest_tle:\n",
    "        satellite = EarthSatellite(latest_tle.split('\\n')[1], latest_tle.split('\\n')[2], satellite_name, ts)\n",
    "        geocentric = satellite.at(target_time)\n",
    "        subpoint = geocentric.subpoint()\n",
    "        latitude = subpoint.latitude.degrees\n",
    "        longitude = subpoint.longitude.degrees\n",
    "\n",
    "        print(f'Satellite: {satellite_name}')\n",
    "        print(f'Latitude: {latitude:.6f} degrees')\n",
    "        print(f'Longitude: {longitude:.6f} degrees')\n",
    "    else:\n",
    "        print(f'No TLE data available for {satellite_name} before the target time.')\n",
    "else:\n",
    "    print(f'No TLE data available for {satellite_name}.')"
   ]
  },
  {
   "cell_type": "markdown",
   "id": "c82679a0-942b-4a8d-9eef-9447bb9c0666",
   "metadata": {},
   "source": [
    "# observe the dataset"
   ]
  },
  {
   "cell_type": "code",
   "execution_count": 15,
   "id": "39f61635-420d-4146-bb80-3818cbf854a9",
   "metadata": {},
   "outputs": [
    {
     "ename": "NameError",
     "evalue": "name 'satellite_tle_data' is not defined",
     "output_type": "error",
     "traceback": [
      "\u001b[1;31m---------------------------------------------------------------------------\u001b[0m",
      "\u001b[1;31mNameError\u001b[0m                                 Traceback (most recent call last)",
      "Cell \u001b[1;32mIn[15], line 7\u001b[0m\n\u001b[0;32m      5\u001b[0m \u001b[38;5;66;03m# 计算每颗卫星的海拔\u001b[39;00m\n\u001b[0;32m      6\u001b[0m altitudes \u001b[38;5;241m=\u001b[39m []\n\u001b[1;32m----> 7\u001b[0m \u001b[38;5;28;01mfor\u001b[39;00m satellite_name, tles \u001b[38;5;129;01min\u001b[39;00m satellite_tle_data\u001b[38;5;241m.\u001b[39mitems():\n\u001b[0;32m      8\u001b[0m     latest_tle \u001b[38;5;241m=\u001b[39m tles[\u001b[38;5;241m-\u001b[39m\u001b[38;5;241m1\u001b[39m]  \u001b[38;5;66;03m# 获取最新的TLE数据\u001b[39;00m\n\u001b[0;32m      9\u001b[0m     satellite \u001b[38;5;241m=\u001b[39m EarthSatellite(latest_tle[\u001b[38;5;241m0\u001b[39m], latest_tle[\u001b[38;5;241m1\u001b[39m], satellite_name, ts)\n",
      "\u001b[1;31mNameError\u001b[0m: name 'satellite_tle_data' is not defined"
     ]
    }
   ],
   "source": [
    "# 定义计算时间点\n",
    "ts = load.timescale()\n",
    "calculation_time = ts.utc(2024, 1, 1, 0, 0, 0)\n",
    "\n",
    "# 计算每颗卫星的海拔\n",
    "altitudes = []\n",
    "for satellite_name, tles in starlink_tle_data.items():\n",
    "    latest_tle = get_latest_tle(tles, target_time.utc_datetime()) # 获取最新的TLE数据\n",
    "    satellite = EarthSatellite(latest_tle[0], latest_tle[1], satellite_name, ts)\n",
    "    difference = satellite - Topos('0 N', '0 E')\n",
    "    topocentric = difference.at(calculation_time)\n",
    "    alt, az, distance = topocentric.altaz()\n",
    "    altitudes.append(distance.km)  # 将海拔高度（km）加入列表\n",
    "\n",
    "# 绘制海拔分布图\n",
    "plt.figure(figsize=(10, 6))\n",
    "plt.hist(altitudes, bins=50, color='blue', edgecolor='black')\n",
    "plt.title('Altitude Distribution of Starlink Satellites (2024-01-01 00:00 UTC)')\n",
    "plt.xlabel('Altitude (km)')\n",
    "plt.ylabel('Number of Satellites')\n",
    "plt.grid(True)\n",
    "plt.show()"
   ]
  },
  {
   "cell_type": "code",
   "execution_count": 6,
   "id": "997ff4cd-03b6-41de-a3fa-8e1fe022a93c",
   "metadata": {},
   "outputs": [
    {
     "ename": "NameError",
     "evalue": "name 'tle_data' is not defined",
     "output_type": "error",
     "traceback": [
      "\u001b[1;31m---------------------------------------------------------------------------\u001b[0m",
      "\u001b[1;31mNameError\u001b[0m                                 Traceback (most recent call last)",
      "Cell \u001b[1;32mIn[6], line 11\u001b[0m\n\u001b[0;32m      8\u001b[0m ts \u001b[38;5;241m=\u001b[39m load\u001b[38;5;241m.\u001b[39mtimescale()\n\u001b[0;32m     10\u001b[0m \u001b[38;5;66;03m# 找到start_time之后的第一个TLE数据\u001b[39;00m\n\u001b[1;32m---> 11\u001b[0m first_tle_index \u001b[38;5;241m=\u001b[39m \u001b[38;5;28mnext\u001b[39m(i \u001b[38;5;28;01mfor\u001b[39;00m i, (epoch, _, _) \u001b[38;5;129;01min\u001b[39;00m \u001b[38;5;28menumerate\u001b[39m(tle_data) \u001b[38;5;28;01mif\u001b[39;00m epoch \u001b[38;5;241m>\u001b[39m\u001b[38;5;241m=\u001b[39m start_time)\n\u001b[0;32m     12\u001b[0m first_tle \u001b[38;5;241m=\u001b[39m tle_data[first_tle_index]\n",
      "\u001b[1;31mNameError\u001b[0m: name 'tle_data' is not defined"
     ]
    }
   ],
   "source": [
    "# 生成时间序列\n",
    "start_time = datetime(2023, 1, 1, tzinfo=timezone.utc)\n",
    "end_time = datetime(2024, 1, 2, tzinfo=timezone.utc)\n",
    "time_step = timedelta(minutes=3)\n",
    "time_series = [start_time + i * time_step for i in range((end_time - start_time) // time_step + 1)]\n",
    "\n",
    "# 初始化Skyfield时间尺度\n",
    "ts = load.timescale()\n",
    "\n",
    "# 找到start_time之后的第一个TLE数据\n",
    "first_tle_index = next(i for i, (epoch, _, _) in enumerate(tle_data) if epoch >= start_time)\n",
    "first_tle = tle_data[first_tle_index]"
   ]
  },
  {
   "cell_type": "code",
   "execution_count": null,
   "id": "75cd8467-4e3e-477d-932c-91e4f31d76a2",
   "metadata": {},
   "outputs": [],
   "source": [
    "first_tle"
   ]
  },
  {
   "cell_type": "code",
   "execution_count": null,
   "id": "75fa81fd-84e1-4011-87a2-8ee8507e69d9",
   "metadata": {},
   "outputs": [],
   "source": []
  }
 ],
 "metadata": {
  "kernelspec": {
   "display_name": "Python 3 (ipykernel)",
   "language": "python",
   "name": "python3"
  },
  "language_info": {
   "codemirror_mode": {
    "name": "ipython",
    "version": 3
   },
   "file_extension": ".py",
   "mimetype": "text/x-python",
   "name": "python",
   "nbconvert_exporter": "python",
   "pygments_lexer": "ipython3",
   "version": "3.11.7"
  }
 },
 "nbformat": 4,
 "nbformat_minor": 5
}
