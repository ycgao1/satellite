{
 "cells": [
  {
   "cell_type": "code",
   "execution_count": 1,
   "id": "ae4c1fb6-f6ba-4a20-b8a4-8bf510160010",
   "metadata": {},
   "outputs": [],
   "source": [
    "import json\n",
    "import os\n",
    "from collections import defaultdict, deque\n",
    "import random\n",
    "\n",
    "sat2stat_file_path = os.path.join(\"dataset\", \"sat2stat_efficiency.json\")\n",
    "\n",
    "\n",
    "# Write the dictionary to a file in JSON format\n",
    "with open(sat2stat_file_path, 'r') as file:\n",
    "    communication_efficiency_sat2stat = json.load(file)\n",
    "    \n",
    "    \n",
    "sat2sat_file_path = os.path.join(\"dataset\", \"sat2sat_efficiency.json\")\n",
    "\n",
    "\n",
    "# Write the dictionary to a file in JSON format\n",
    "with open(sat2sat_file_path, 'r') as file:\n",
    "    communication_efficiency_sat2sat = json.load(file)\n",
    "    "
   ]
  },
  {
   "cell_type": "code",
   "execution_count": 2,
   "id": "9ae5617d-6574-4131-ac7a-fb8bb7b55fea",
   "metadata": {},
   "outputs": [],
   "source": [
    "def bfs_shortest_path(graph, start, goal):\n",
    "    \"\"\"Return the shortest path between start and goal nodes using BFS\"\"\"\n",
    "    queue = deque([(start, [start])])\n",
    "    visited = set()\n",
    "\n",
    "    while queue:\n",
    "        (current, path) = queue.popleft()\n",
    "        if current in visited:\n",
    "            continue\n",
    "\n",
    "        visited.add(current)\n",
    "\n",
    "        for neighbor in graph[current]:\n",
    "            if neighbor == goal:\n",
    "                return path + [neighbor]\n",
    "            else:\n",
    "                queue.append((neighbor, path + [neighbor]))\n",
    "    return []\n",
    "\n",
    "def multi_source_bfs(graph, sources):\n",
    "    \"\"\"Return the distance all the nodes to the tree\"\"\"\n",
    "    queue = deque(sources)\n",
    "    visited = {source: 0 for source in sources}  # visited node and distance\n",
    "    paths = {source: [source] for source in sources}  # the path from source to node\n",
    "\n",
    "    while queue:\n",
    "        current = queue.popleft()\n",
    "        for neighbor in graph[current]:\n",
    "            if neighbor not in visited:\n",
    "                visited[neighbor] = visited[current] + 1\n",
    "                paths[neighbor] = paths[current] + [neighbor]\n",
    "                queue.append(neighbor)\n",
    "    return visited, paths\n",
    "\n",
    "def build_steiner_tree(graph, start, ground_stations):\n",
    "    tree = {start}\n",
    "    tree_edges = []\n",
    "    remaining_stations = set(ground_stations)\n",
    "\n",
    "    while remaining_stations:\n",
    "        distances, paths = multi_source_bfs(graph, tree)\n",
    "        \n",
    "        # Find the nearest remaining ground station to the tree\n",
    "        nearest_station = min(remaining_stations, key=lambda x: distances.get(x, float('inf')))\n",
    "        path_to_nearest = paths.get(nearest_station, [])\n",
    "\n",
    "        # Add the path to the nearest station to the tree\n",
    "        for i in range(1, len(path_to_nearest)):\n",
    "            tree_edges.append((path_to_nearest[i-1], path_to_nearest[i]))\n",
    "            tree.add(path_to_nearest[i])\n",
    "        remaining_stations.remove(nearest_station)\n",
    "\n",
    "    return tree, tree_edges"
   ]
  },
  {
   "cell_type": "code",
   "execution_count": 3,
   "id": "5883d49b-45b9-4210-8e66-43ed128ab69a",
   "metadata": {},
   "outputs": [],
   "source": [
    "def generate_graph(communication_efficiency_sat2stat, communication_efficiency_sat2sat, threshold):    \n",
    "    G = defaultdict(dict)\n",
    "    ground_stations = set()\n",
    "    satellites = set()\n",
    "\n",
    "    # Add edges from satellite to satellite\n",
    "    for sat1, connections in communication_efficiency_sat2sat.items():\n",
    "        satellites.add(sat1)\n",
    "        for sat2, efficiency in connections.items():\n",
    "            if efficiency > threshold:\n",
    "                G[sat1][sat2] = efficiency  # Edge weight is 1\n",
    "\n",
    "    # Add edges from ground station to satellite\n",
    "    for station, connections in communication_efficiency_sat2stat.items():\n",
    "        ground_stations.add(station)\n",
    "        for sat, efficiency in connections.items():\n",
    "            if efficiency >= threshold:\n",
    "                G[station][sat] = efficiency  # Edge weight is 1\n",
    "                G[sat][station] = efficiency\n",
    "    return G, ground_stations, satellites"
   ]
  },
  {
   "cell_type": "code",
   "execution_count": 4,
   "id": "82ec4db0-a361-47e5-9f87-63a2b46494ad",
   "metadata": {},
   "outputs": [],
   "source": [
    "threshold = 0.0001\n",
    "G, ground_stations, satellites = generate_graph(communication_efficiency_sat2stat, communication_efficiency_sat2sat, threshold)\n",
    "start = \"New York\""
   ]
  },
  {
   "cell_type": "code",
   "execution_count": 5,
   "id": "897c18e6-2ee8-4316-a8b2-fe2c46ff4ebf",
   "metadata": {},
   "outputs": [
    {
     "name": "stdout",
     "output_type": "stream",
     "text": [
      "Constructed Tree Nodes: {'STARLINK-3635', 'Tokyo', 'STARLINK-1043', 'STARLINK-2024', 'STARLINK-1060', 'Seoul', 'London', 'Ottawa', 'Jerusalem', 'Berlin', 'STARLINK-1054', 'Paris', 'Singapore', 'Canberra', 'Brussels', 'Beijing', 'Chicago', 'Los Angeles', 'STARLINK-1020', 'Amsterdam', 'STARLINK-1236', 'New Delhi', 'STARLINK-1144', 'Washington D.C.', 'New York', 'STARLINK-1971'}\n",
      "Steiner Tree Edges: [('New York', 'STARLINK-1144'), ('STARLINK-1144', 'Chicago'), ('STARLINK-1144', 'Washington D.C.'), ('STARLINK-1144', 'Ottawa'), ('STARLINK-1144', 'STARLINK-1971'), ('STARLINK-1971', 'Berlin'), ('STARLINK-1971', 'Paris'), ('STARLINK-1971', 'Brussels'), ('STARLINK-1971', 'Amsterdam'), ('STARLINK-1971', 'London'), ('Chicago', 'STARLINK-1054'), ('STARLINK-1054', 'Los Angeles'), ('Berlin', 'STARLINK-2024'), ('STARLINK-2024', 'Jerusalem'), ('STARLINK-2024', 'STARLINK-1236'), ('STARLINK-1236', 'New Delhi'), ('STARLINK-1236', 'STARLINK-1060'), ('STARLINK-1060', 'Tokyo'), ('STARLINK-1060', 'Beijing'), ('STARLINK-1060', 'Seoul'), ('STARLINK-1060', 'STARLINK-1020'), ('STARLINK-1020', 'Singapore'), ('STARLINK-1060', 'STARLINK-1043'), ('STARLINK-1043', 'STARLINK-3635'), ('STARLINK-3635', 'Canberra')]\n",
      "Number of Satellites Used in Steiner Tree: 9\n"
     ]
    }
   ],
   "source": [
    "# Optimized Steiner Tree\n",
    "tree, steiner_tree_edges = build_steiner_tree(G, start, ground_stations)\n",
    "steiner_tree_satellites = [node for node in tree if node in satellites]\n",
    "print(\"Constructed Tree Nodes:\", tree)\n",
    "print(\"Steiner Tree Edges:\", steiner_tree_edges)\n",
    "print(\"Number of Satellites Used in Steiner Tree:\", len(steiner_tree_satellites))"
   ]
  },
  {
   "cell_type": "code",
   "execution_count": 6,
   "id": "0b8780d5-9569-477b-9463-5a5092a9252d",
   "metadata": {},
   "outputs": [],
   "source": [
    "# Baseline 1: Direct Connection Between Ground Stations Using BFS\n",
    "def build_baseline1(graph, ground_stations):\n",
    "    tree_edges = []\n",
    "    tree_nodes = set(ground_stations)\n",
    "    added_edges = set()\n",
    "\n",
    "    # Connect each ground station to every other ground station using BFS\n",
    "    for station1 in ground_stations:\n",
    "        for station2 in ground_stations:\n",
    "            if station1 != station2 and (station1, station2) not in added_edges and (station2, station1) not in added_edges:\n",
    "                path = bfs_shortest_path(graph, station1, station2)\n",
    "                for i in range(1, len(path)):\n",
    "                    edge = (path[i-1], path[i])\n",
    "                    tree_edges.append(edge)\n",
    "                    tree_nodes.add(path[i])\n",
    "                added_edges.add((station1, station2))\n",
    "                #print(path)\n",
    "\n",
    "    return tree_nodes, tree_edges"
   ]
  },
  {
   "cell_type": "code",
   "execution_count": 7,
   "id": "7746f35b-673b-4f1e-96ec-2d25c5484d76",
   "metadata": {},
   "outputs": [
    {
     "name": "stdout",
     "output_type": "stream",
     "text": [
      "Baseline 1 Tree Nodes: {'STARLINK-3227', 'STARLINK-3344', 'STARLINK-1618', 'Tokyo', 'STARLINK-1068', 'STARLINK-1298', 'STARLINK-1043', 'STARLINK-4118', 'STARLINK-2024', 'STARLINK-1093', 'STARLINK-5997', 'STARLINK-2055', 'STARLINK-4071', 'STARLINK-1060', 'STARLINK-3081', 'STARLINK-2123', 'STARLINK-4465', 'Seoul', 'STARLINK-5285', 'STARLINK-1177', 'STARLINK-1170', 'STARLINK-2243', 'STARLINK-1091', 'STARLINK-1556', 'STARLINK-3104', 'STARLINK-1340', 'STARLINK-2526', 'STARLINK-1079', 'Jerusalem', 'STARLINK-1327', 'STARLINK-1354', 'STARLINK-1485', 'STARLINK-5598', 'STARLINK-1269', 'STARLINK-1572', 'STARLINK-2754', 'STARLINK-1452', 'STARLINK-1293', 'Brussels', 'STARLINK-4258', 'STARLINK-1123', 'Beijing', 'STARLINK-4454', 'STARLINK-30173', 'STARLINK-1021', 'STARLINK-1012', 'Chicago', 'Los Angeles', 'STARLINK-1020', 'STARLINK-1007', 'STARLINK-1404', 'STARLINK-1147', 'Amsterdam', 'STARLINK-1191', 'STARLINK-1930', 'Washington D.C.', 'STARLINK-1111', 'New York', 'STARLINK-6095', 'STARLINK-1696', 'STARLINK-1234', 'STARLINK-1028', 'STARLINK-1971', 'STARLINK-2751', 'STARLINK-1019', 'STARLINK-3635', 'STARLINK-1723', 'STARLINK-1221', 'STARLINK-1899', 'STARLINK-4308', 'STARLINK-1148', 'STARLINK-1451', 'STARLINK-2472', 'STARLINK-1030', 'STARLINK-4434', 'STARLINK-1267', 'STARLINK-1090', 'STARLINK-1172', 'STARLINK-1462', 'STARLINK-4450', 'STARLINK-1479', 'STARLINK-6367', 'STARLINK-1445', 'STARLINK-1272', 'STARLINK-3905', 'London', 'STARLINK-2424', 'Ottawa', 'STARLINK-4266', 'STARLINK-1145', 'STARLINK-1053', 'STARLINK-1200', 'STARLINK-1121', 'STARLINK-1279', 'STARLINK-1165', 'STARLINK-1603', 'Berlin', 'STARLINK-5864', 'STARLINK-1397', 'STARLINK-1054', 'STARLINK-30246', 'STARLINK-5512', 'STARLINK-3718', 'Paris', 'Canberra', 'Singapore', 'STARLINK-4408', 'STARLINK-1094', 'STARLINK-4414', 'STARLINK-1402', 'STARLINK-30588', 'STARLINK-5892', 'STARLINK-1160', 'STARLINK-1236', 'New Delhi', 'STARLINK-1144', 'STARLINK-1281', 'STARLINK-30357', 'STARLINK-1137', 'STARLINK-1102', 'STARLINK-4043'}\n",
      "Baseline 1 Tree Edges: [('Chicago', 'STARLINK-1144'), ('STARLINK-1144', 'STARLINK-1971'), ('STARLINK-1971', 'Berlin'), ('Chicago', 'STARLINK-1054'), ('STARLINK-1054', 'Los Angeles'), ('Chicago', 'STARLINK-1054'), ('STARLINK-1054', 'STARLINK-1172'), ('STARLINK-1172', 'STARLINK-4258'), ('STARLINK-4258', 'Seoul'), ('Chicago', 'STARLINK-1054'), ('STARLINK-1054', 'STARLINK-1172'), ('STARLINK-1172', 'STARLINK-1053'), ('STARLINK-1053', 'Tokyo'), ('Chicago', 'STARLINK-1144'), ('STARLINK-1144', 'STARLINK-1221'), ('STARLINK-1221', 'Amsterdam'), ('Chicago', 'STARLINK-3344'), ('STARLINK-3344', 'STARLINK-4450'), ('STARLINK-4450', 'STARLINK-30246'), ('STARLINK-30246', 'New Delhi'), ('Chicago', 'STARLINK-1144'), ('STARLINK-1144', 'STARLINK-1079'), ('STARLINK-1079', 'London'), ('Chicago', 'STARLINK-1144'), ('STARLINK-1144', 'STARLINK-1221'), ('STARLINK-1221', 'Paris'), ('Chicago', 'STARLINK-1054'), ('STARLINK-1054', 'STARLINK-1111'), ('STARLINK-1111', 'STARLINK-1618'), ('STARLINK-1618', 'STARLINK-3718'), ('STARLINK-3718', 'Canberra'), ('Chicago', 'STARLINK-1144'), ('STARLINK-1144', 'Ottawa'), ('Chicago', 'STARLINK-1144'), ('STARLINK-1144', 'STARLINK-1221'), ('STARLINK-1221', 'Brussels'), ('Chicago', 'STARLINK-1054'), ('STARLINK-1054', 'STARLINK-1172'), ('STARLINK-1172', 'STARLINK-1053'), ('STARLINK-1053', 'STARLINK-1397'), ('STARLINK-1397', 'Singapore'), ('Chicago', 'STARLINK-1144'), ('STARLINK-1144', 'Washington D.C.'), ('Chicago', 'STARLINK-1144'), ('STARLINK-1144', 'New York'), ('Chicago', 'STARLINK-1054'), ('STARLINK-1054', 'STARLINK-5285'), ('STARLINK-5285', 'STARLINK-3227'), ('STARLINK-3227', 'Beijing'), ('Chicago', 'STARLINK-1144'), ('STARLINK-1144', 'STARLINK-1079'), ('STARLINK-1079', 'STARLINK-1191'), ('STARLINK-1191', 'Jerusalem'), ('Berlin', 'STARLINK-1200'), ('STARLINK-1200', 'STARLINK-1093'), ('STARLINK-1093', 'STARLINK-1054'), ('STARLINK-1054', 'Los Angeles'), ('Berlin', 'STARLINK-1200'), ('STARLINK-1200', 'STARLINK-1269'), ('STARLINK-1269', 'STARLINK-1696'), ('STARLINK-1696', 'Seoul'), ('Berlin', 'STARLINK-1200'), ('STARLINK-1200', 'STARLINK-1279'), ('STARLINK-1279', 'STARLINK-1462'), ('STARLINK-1462', 'Tokyo'), ('Berlin', 'STARLINK-1200'), ('STARLINK-1200', 'Amsterdam'), ('Berlin', 'STARLINK-1200'), ('STARLINK-1200', 'STARLINK-1272'), ('STARLINK-1272', 'New Delhi'), ('Berlin', 'STARLINK-1200'), ('STARLINK-1200', 'London'), ('Berlin', 'STARLINK-1200'), ('STARLINK-1200', 'Paris'), ('Berlin', 'STARLINK-2123'), ('STARLINK-2123', 'STARLINK-1236'), ('STARLINK-1236', 'STARLINK-3905'), ('STARLINK-3905', 'STARLINK-30173'), ('STARLINK-30173', 'Canberra'), ('Berlin', 'STARLINK-1200'), ('STARLINK-1200', 'STARLINK-2526'), ('STARLINK-2526', 'Ottawa'), ('Berlin', 'STARLINK-1200'), ('STARLINK-1200', 'Brussels'), ('Berlin', 'STARLINK-1200'), ('STARLINK-1200', 'STARLINK-1279'), ('STARLINK-1279', 'STARLINK-1020'), ('STARLINK-1020', 'Singapore'), ('Berlin', 'STARLINK-1402'), ('STARLINK-1402', 'STARLINK-1234'), ('STARLINK-1234', 'Washington D.C.'), ('Berlin', 'STARLINK-1402'), ('STARLINK-1402', 'STARLINK-1234'), ('STARLINK-1234', 'New York'), ('Berlin', 'STARLINK-4118'), ('STARLINK-4118', 'STARLINK-4071'), ('STARLINK-4071', 'Beijing'), ('Berlin', 'STARLINK-2024'), ('STARLINK-2024', 'Jerusalem'), ('Los Angeles', 'STARLINK-1007'), ('STARLINK-1007', 'STARLINK-1068'), ('STARLINK-1068', 'STARLINK-1028'), ('STARLINK-1028', 'Seoul'), ('Los Angeles', 'STARLINK-1007'), ('STARLINK-1007', 'STARLINK-1068'), ('STARLINK-1068', 'STARLINK-1053'), ('STARLINK-1053', 'Tokyo'), ('Los Angeles', 'STARLINK-1007'), ('STARLINK-1007', 'STARLINK-1603'), ('STARLINK-1603', 'STARLINK-4266'), ('STARLINK-4266', 'Amsterdam'), ('Los Angeles', 'STARLINK-1007'), ('STARLINK-1007', 'STARLINK-1068'), ('STARLINK-1068', 'STARLINK-1028'), ('STARLINK-1028', 'STARLINK-1236'), ('STARLINK-1236', 'New Delhi'), ('Los Angeles', 'STARLINK-1007'), ('STARLINK-1007', 'STARLINK-1603'), ('STARLINK-1603', 'STARLINK-1723'), ('STARLINK-1723', 'London'), ('Los Angeles', 'STARLINK-1007'), ('STARLINK-1007', 'STARLINK-1603'), ('STARLINK-1603', 'STARLINK-4266'), ('STARLINK-4266', 'Paris'), ('Los Angeles', 'STARLINK-6095'), ('STARLINK-6095', 'STARLINK-5892'), ('STARLINK-5892', 'STARLINK-30588'), ('STARLINK-30588', 'Canberra'), ('Los Angeles', 'STARLINK-1007'), ('STARLINK-1007', 'STARLINK-1177'), ('STARLINK-1177', 'Ottawa'), ('Los Angeles', 'STARLINK-1007'), ('STARLINK-1007', 'STARLINK-1603'), ('STARLINK-1603', 'STARLINK-4266'), ('STARLINK-4266', 'Brussels'), ('Los Angeles', 'STARLINK-1007'), ('STARLINK-1007', 'STARLINK-1068'), ('STARLINK-1068', 'STARLINK-1028'), ('STARLINK-1028', 'STARLINK-1020'), ('STARLINK-1020', 'Singapore'), ('Los Angeles', 'STARLINK-1007'), ('STARLINK-1007', 'STARLINK-1137'), ('STARLINK-1137', 'Washington D.C.'), ('Los Angeles', 'STARLINK-1007'), ('STARLINK-1007', 'STARLINK-1137'), ('STARLINK-1137', 'New York'), ('Los Angeles', 'STARLINK-1007'), ('STARLINK-1007', 'STARLINK-1145'), ('STARLINK-1145', 'STARLINK-1060'), ('STARLINK-1060', 'Beijing'), ('Los Angeles', 'STARLINK-1007'), ('STARLINK-1007', 'STARLINK-1148'), ('STARLINK-1148', 'STARLINK-5598'), ('STARLINK-5598', 'STARLINK-2024'), ('STARLINK-2024', 'Jerusalem'), ('Seoul', 'STARLINK-1060'), ('STARLINK-1060', 'Tokyo'), ('Seoul', 'STARLINK-1021'), ('STARLINK-1021', 'STARLINK-1236'), ('STARLINK-1236', 'STARLINK-2123'), ('STARLINK-2123', 'Amsterdam'), ('Seoul', 'STARLINK-1021'), ('STARLINK-1021', 'STARLINK-1236'), ('STARLINK-1236', 'New Delhi'), ('Seoul', 'STARLINK-1021'), ('STARLINK-1021', 'STARLINK-1279'), ('STARLINK-1279', 'STARLINK-1200'), ('STARLINK-1200', 'London'), ('Seoul', 'STARLINK-1021'), ('STARLINK-1021', 'STARLINK-1279'), ('STARLINK-1279', 'STARLINK-1200'), ('STARLINK-1200', 'Paris'), ('Seoul', 'STARLINK-1021'), ('STARLINK-1021', 'STARLINK-1445'), ('STARLINK-1445', 'STARLINK-5512'), ('STARLINK-5512', 'Canberra'), ('Seoul', 'STARLINK-1021'), ('STARLINK-1021', 'STARLINK-4414'), ('STARLINK-4414', 'STARLINK-1094'), ('STARLINK-1094', 'Ottawa'), ('Seoul', 'STARLINK-1021'), ('STARLINK-1021', 'STARLINK-1236'), ('STARLINK-1236', 'STARLINK-2123'), ('STARLINK-2123', 'Brussels'), ('Seoul', 'STARLINK-1021'), ('STARLINK-1021', 'STARLINK-1020'), ('STARLINK-1020', 'Singapore'), ('Seoul', 'STARLINK-1021'), ('STARLINK-1021', 'STARLINK-4414'), ('STARLINK-4414', 'STARLINK-1094'), ('STARLINK-1094', 'Washington D.C.'), ('Seoul', 'STARLINK-1021'), ('STARLINK-1021', 'STARLINK-4414'), ('STARLINK-4414', 'STARLINK-1094'), ('STARLINK-1094', 'New York'), ('Seoul', 'STARLINK-1021'), ('STARLINK-1021', 'Beijing'), ('Seoul', 'STARLINK-1021'), ('STARLINK-1021', 'STARLINK-1236'), ('STARLINK-1236', 'STARLINK-1191'), ('STARLINK-1191', 'Jerusalem'), ('Tokyo', 'STARLINK-1053'), ('STARLINK-1053', 'STARLINK-1556'), ('STARLINK-1556', 'STARLINK-1404'), ('STARLINK-1404', 'Amsterdam'), ('Tokyo', 'STARLINK-1060'), ('STARLINK-1060', 'STARLINK-1236'), ('STARLINK-1236', 'New Delhi'), ('Tokyo', 'STARLINK-1053'), ('STARLINK-1053', 'STARLINK-1556'), ('STARLINK-1556', 'STARLINK-1404'), ('STARLINK-1404', 'London'), ('Tokyo', 'STARLINK-1053'), ('STARLINK-1053', 'STARLINK-1556'), ('STARLINK-1556', 'STARLINK-1404'), ('STARLINK-1404', 'Paris'), ('Tokyo', 'STARLINK-1053'), ('STARLINK-1053', 'STARLINK-1160'), ('STARLINK-1160', 'STARLINK-2751'), ('STARLINK-2751', 'Canberra'), ('Tokyo', 'STARLINK-1053'), ('STARLINK-1053', 'STARLINK-1068'), ('STARLINK-1068', 'STARLINK-1603'), ('STARLINK-1603', 'Ottawa'), ('Tokyo', 'STARLINK-1053'), ('STARLINK-1053', 'STARLINK-1556'), ('STARLINK-1556', 'STARLINK-1404'), ('STARLINK-1404', 'Brussels'), ('Tokyo', 'STARLINK-1053'), ('STARLINK-1053', 'STARLINK-1397'), ('STARLINK-1397', 'Singapore'), ('Tokyo', 'STARLINK-1053'), ('STARLINK-1053', 'STARLINK-3104'), ('STARLINK-3104', 'STARLINK-1147'), ('STARLINK-1147', 'Washington D.C.'), ('Tokyo', 'STARLINK-1060'), ('STARLINK-1060', 'STARLINK-4414'), ('STARLINK-4414', 'STARLINK-1094'), ('STARLINK-1094', 'New York'), ('Tokyo', 'STARLINK-1060'), ('STARLINK-1060', 'Beijing'), ('Tokyo', 'STARLINK-1053'), ('STARLINK-1053', 'STARLINK-1267'), ('STARLINK-1267', 'STARLINK-1298'), ('STARLINK-1298', 'Jerusalem'), ('Amsterdam', 'STARLINK-1200'), ('STARLINK-1200', 'STARLINK-1272'), ('STARLINK-1272', 'New Delhi'), ('Amsterdam', 'STARLINK-1200'), ('STARLINK-1200', 'London'), ('Amsterdam', 'STARLINK-1200'), ('STARLINK-1200', 'Paris'), ('Amsterdam', 'STARLINK-2123'), ('STARLINK-2123', 'STARLINK-1236'), ('STARLINK-1236', 'STARLINK-3905'), ('STARLINK-3905', 'STARLINK-30173'), ('STARLINK-30173', 'Canberra'), ('Amsterdam', 'STARLINK-1200'), ('STARLINK-1200', 'STARLINK-2526'), ('STARLINK-2526', 'Ottawa'), ('Amsterdam', 'STARLINK-1200'), ('STARLINK-1200', 'Brussels'), ('Amsterdam', 'STARLINK-1200'), ('STARLINK-1200', 'STARLINK-1279'), ('STARLINK-1279', 'STARLINK-1020'), ('STARLINK-1020', 'Singapore'), ('Amsterdam', 'STARLINK-1221'), ('STARLINK-1221', 'STARLINK-1144'), ('STARLINK-1144', 'Washington D.C.'), ('Amsterdam', 'STARLINK-1221'), ('STARLINK-1221', 'STARLINK-1102'), ('STARLINK-1102', 'New York'), ('Amsterdam', 'STARLINK-1200'), ('STARLINK-1200', 'STARLINK-1269'), ('STARLINK-1269', 'STARLINK-1281'), ('STARLINK-1281', 'Beijing'), ('Amsterdam', 'STARLINK-1200'), ('STARLINK-1200', 'STARLINK-1123'), ('STARLINK-1123', 'Jerusalem'), ('New Delhi', 'STARLINK-1272'), ('STARLINK-1272', 'STARLINK-1200'), ('STARLINK-1200', 'London'), ('New Delhi', 'STARLINK-1272'), ('STARLINK-1272', 'STARLINK-1200'), ('STARLINK-1200', 'Paris'), ('New Delhi', 'STARLINK-1019'), ('STARLINK-1019', 'STARLINK-1043'), ('STARLINK-1043', 'STARLINK-3635'), ('STARLINK-3635', 'Canberra'), ('New Delhi', 'STARLINK-1272'), ('STARLINK-1272', 'STARLINK-1200'), ('STARLINK-1200', 'STARLINK-2526'), ('STARLINK-2526', 'Ottawa'), ('New Delhi', 'STARLINK-1236'), ('STARLINK-1236', 'STARLINK-2123'), ('STARLINK-2123', 'Brussels'), ('New Delhi', 'STARLINK-1019'), ('STARLINK-1019', 'STARLINK-1020'), ('STARLINK-1020', 'Singapore'), ('New Delhi', 'STARLINK-1272'), ('STARLINK-1272', 'STARLINK-4454'), ('STARLINK-4454', 'STARLINK-1899'), ('STARLINK-1899', 'Washington D.C.'), ('New Delhi', 'STARLINK-1272'), ('STARLINK-1272', 'STARLINK-4465'), ('STARLINK-4465', 'STARLINK-2243'), ('STARLINK-2243', 'New York'), ('New Delhi', 'STARLINK-1019'), ('STARLINK-1019', 'STARLINK-1030'), ('STARLINK-1030', 'Beijing'), ('New Delhi', 'STARLINK-1019'), ('STARLINK-1019', 'STARLINK-1298'), ('STARLINK-1298', 'Jerusalem'), ('London', 'STARLINK-1200'), ('STARLINK-1200', 'Paris'), ('London', 'STARLINK-1079'), ('STARLINK-1079', 'STARLINK-1191'), ('STARLINK-1191', 'STARLINK-1236'), ('STARLINK-1236', 'STARLINK-3905'), ('STARLINK-3905', 'STARLINK-30173'), ('STARLINK-30173', 'Canberra'), ('London', 'STARLINK-1079'), ('STARLINK-1079', 'STARLINK-1102'), ('STARLINK-1102', 'Ottawa'), ('London', 'STARLINK-1200'), ('STARLINK-1200', 'Brussels'), ('London', 'STARLINK-1200'), ('STARLINK-1200', 'STARLINK-1279'), ('STARLINK-1279', 'STARLINK-1020'), ('STARLINK-1020', 'Singapore'), ('London', 'STARLINK-1079'), ('STARLINK-1079', 'STARLINK-1144'), ('STARLINK-1144', 'Washington D.C.'), ('London', 'STARLINK-1079'), ('STARLINK-1079', 'STARLINK-1102'), ('STARLINK-1102', 'New York'), ('London', 'STARLINK-1079'), ('STARLINK-1079', 'STARLINK-1327'), ('STARLINK-1327', 'STARLINK-1354'), ('STARLINK-1354', 'Beijing'), ('London', 'STARLINK-1079'), ('STARLINK-1079', 'STARLINK-1191'), ('STARLINK-1191', 'Jerusalem'), ('Paris', 'STARLINK-1200'), ('STARLINK-1200', 'STARLINK-1123'), ('STARLINK-1123', 'STARLINK-1091'), ('STARLINK-1091', 'STARLINK-5997'), ('STARLINK-5997', 'STARLINK-1165'), ('STARLINK-1165', 'Canberra'), ('Paris', 'STARLINK-1200'), ('STARLINK-1200', 'STARLINK-2526'), ('STARLINK-2526', 'Ottawa'), ('Paris', 'STARLINK-1200'), ('STARLINK-1200', 'Brussels'), ('Paris', 'STARLINK-1200'), ('STARLINK-1200', 'STARLINK-1279'), ('STARLINK-1279', 'STARLINK-1020'), ('STARLINK-1020', 'Singapore'), ('Paris', 'STARLINK-1221'), ('STARLINK-1221', 'STARLINK-1144'), ('STARLINK-1144', 'Washington D.C.'), ('Paris', 'STARLINK-1221'), ('STARLINK-1221', 'STARLINK-1102'), ('STARLINK-1102', 'New York'), ('Paris', 'STARLINK-1200'), ('STARLINK-1200', 'STARLINK-1269'), ('STARLINK-1269', 'STARLINK-1281'), ('STARLINK-1281', 'Beijing'), ('Paris', 'STARLINK-1200'), ('STARLINK-1200', 'STARLINK-1123'), ('STARLINK-1123', 'Jerusalem'), ('Canberra', 'STARLINK-1452'), ('STARLINK-1452', 'STARLINK-1572'), ('STARLINK-1572', 'STARLINK-4434'), ('STARLINK-4434', 'STARLINK-2424'), ('STARLINK-2424', 'Ottawa'), ('Canberra', 'STARLINK-5512'), ('STARLINK-5512', 'STARLINK-1445'), ('STARLINK-1445', 'STARLINK-1451'), ('STARLINK-1451', 'STARLINK-2123'), ('STARLINK-2123', 'Brussels'), ('Canberra', 'STARLINK-1165'), ('STARLINK-1165', 'STARLINK-4043'), ('STARLINK-4043', 'Singapore'), ('Canberra', 'STARLINK-1452'), ('STARLINK-1452', 'STARLINK-2754'), ('STARLINK-2754', 'STARLINK-1930'), ('STARLINK-1930', 'STARLINK-1479'), ('STARLINK-1479', 'Washington D.C.'), ('Canberra', 'STARLINK-2751'), ('STARLINK-2751', 'STARLINK-3081'), ('STARLINK-3081', 'STARLINK-2472'), ('STARLINK-2472', 'STARLINK-6367'), ('STARLINK-6367', 'New York'), ('Canberra', 'STARLINK-1090'), ('STARLINK-1090', 'STARLINK-1170'), ('STARLINK-1170', 'STARLINK-30357'), ('STARLINK-30357', 'Beijing'), ('Canberra', 'STARLINK-1121'), ('STARLINK-1121', 'STARLINK-2055'), ('STARLINK-2055', 'STARLINK-1485'), ('STARLINK-1485', 'STARLINK-5864'), ('STARLINK-5864', 'Jerusalem'), ('Ottawa', 'STARLINK-1102'), ('STARLINK-1102', 'STARLINK-1221'), ('STARLINK-1221', 'Brussels'), ('Ottawa', 'STARLINK-1102'), ('STARLINK-1102', 'STARLINK-4308'), ('STARLINK-4308', 'STARLINK-1279'), ('STARLINK-1279', 'STARLINK-1020'), ('STARLINK-1020', 'Singapore'), ('Ottawa', 'STARLINK-1144'), ('STARLINK-1144', 'Washington D.C.'), ('Ottawa', 'STARLINK-1102'), ('STARLINK-1102', 'New York'), ('Ottawa', 'STARLINK-1102'), ('STARLINK-1102', 'STARLINK-4308'), ('STARLINK-4308', 'STARLINK-1281'), ('STARLINK-1281', 'Beijing'), ('Ottawa', 'STARLINK-1102'), ('STARLINK-1102', 'STARLINK-1079'), ('STARLINK-1079', 'STARLINK-1191'), ('STARLINK-1191', 'Jerusalem'), ('Brussels', 'STARLINK-1200'), ('STARLINK-1200', 'STARLINK-1279'), ('STARLINK-1279', 'STARLINK-1020'), ('STARLINK-1020', 'Singapore'), ('Brussels', 'STARLINK-1221'), ('STARLINK-1221', 'STARLINK-1144'), ('STARLINK-1144', 'Washington D.C.'), ('Brussels', 'STARLINK-1221'), ('STARLINK-1221', 'STARLINK-1102'), ('STARLINK-1102', 'New York'), ('Brussels', 'STARLINK-1200'), ('STARLINK-1200', 'STARLINK-1269'), ('STARLINK-1269', 'STARLINK-1281'), ('STARLINK-1281', 'Beijing'), ('Brussels', 'STARLINK-1200'), ('STARLINK-1200', 'STARLINK-1123'), ('STARLINK-1123', 'Jerusalem'), ('Singapore', 'STARLINK-1020'), ('STARLINK-1020', 'STARLINK-1021'), ('STARLINK-1021', 'STARLINK-4414'), ('STARLINK-4414', 'STARLINK-1094'), ('STARLINK-1094', 'Washington D.C.'), ('Singapore', 'STARLINK-1020'), ('STARLINK-1020', 'STARLINK-1021'), ('STARLINK-1021', 'STARLINK-4414'), ('STARLINK-4414', 'STARLINK-1094'), ('STARLINK-1094', 'New York'), ('Singapore', 'STARLINK-1020'), ('STARLINK-1020', 'STARLINK-1021'), ('STARLINK-1021', 'Beijing'), ('Singapore', 'STARLINK-1020'), ('STARLINK-1020', 'STARLINK-1012'), ('STARLINK-1012', 'STARLINK-1293'), ('STARLINK-1293', 'Jerusalem'), ('Washington D.C.', 'STARLINK-1144'), ('STARLINK-1144', 'New York'), ('Washington D.C.', 'STARLINK-1144'), ('STARLINK-1144', 'STARLINK-4408'), ('STARLINK-4408', 'STARLINK-1281'), ('STARLINK-1281', 'Beijing'), ('Washington D.C.', 'STARLINK-1144'), ('STARLINK-1144', 'STARLINK-1079'), ('STARLINK-1079', 'STARLINK-1191'), ('STARLINK-1191', 'Jerusalem'), ('New York', 'STARLINK-1102'), ('STARLINK-1102', 'STARLINK-4308'), ('STARLINK-4308', 'STARLINK-1281'), ('STARLINK-1281', 'Beijing'), ('New York', 'STARLINK-1102'), ('STARLINK-1102', 'STARLINK-1079'), ('STARLINK-1079', 'STARLINK-1191'), ('STARLINK-1191', 'Jerusalem'), ('Beijing', 'STARLINK-1340'), ('STARLINK-1340', 'STARLINK-1298'), ('STARLINK-1298', 'Jerusalem')]\n",
      "Number of Satellites Used in Baseline 1: 104\n"
     ]
    }
   ],
   "source": [
    "baseline1_tree_nodes, baseline1_tree_edges = build_baseline1(G, ground_stations)\n",
    "baseline1_tree_satellites = [node for node in baseline1_tree_nodes if node in satellites]\n",
    "print(\"Baseline 1 Tree Nodes:\", baseline1_tree_nodes)\n",
    "print(\"Baseline 1 Tree Edges:\", baseline1_tree_edges)\n",
    "print(\"Number of Satellites Used in Baseline 1:\", len(baseline1_tree_satellites))"
   ]
  },
  {
   "cell_type": "code",
   "execution_count": 8,
   "id": "1a656213-5688-4df3-9c0d-7a938f0d5861",
   "metadata": {},
   "outputs": [],
   "source": [
    "# Baseline 2: Start from a random satellite and use BFS to connect to ground stations\n",
    "def build_baseline2(graph, ground_stations, satellites):\n",
    "    random_satellite = random.choice(list(satellites))\n",
    "    tree_nodes = {random_satellite}\n",
    "    tree_edges = []\n",
    "    added_edges = set()\n",
    "\n",
    "    # Connect the random satellite to all ground stations using BFS\n",
    "    for station in ground_stations:\n",
    "        path = bfs_shortest_path(graph, random_satellite, station)\n",
    "        for i in range(1, len(path)):\n",
    "            edge = (path[i-1], path[i])\n",
    "            if (path[i-1] in ground_stations and path[i] in ground_stations) and ((path[i-1], path[i]) not in added_edges and (path[i], path[i-1]) not in added_edges):\n",
    "                added_edges.add((path[i-1], path[i]))\n",
    "            tree_edges.append(edge)\n",
    "            tree_nodes.add(path[i])\n",
    "\n",
    "    return tree_nodes, tree_edges\n"
   ]
  },
  {
   "cell_type": "code",
   "execution_count": 9,
   "id": "c1b50efe-e3b2-4d23-bdc9-238bcfeb2efe",
   "metadata": {},
   "outputs": [
    {
     "name": "stdout",
     "output_type": "stream",
     "text": [
      "Baseline 2 Tree Nodes: {'STARLINK-1132', 'STARLINK-1973', 'STARLINK-3610', 'STARLINK-30226', 'Tokyo', 'STARLINK-4291', 'STARLINK-1329', 'STARLINK-5063', 'STARLINK-1010', 'Seoul', 'STARLINK-1800', 'London', 'STARLINK-1134', 'Ottawa', 'STARLINK-1202', 'STARLINK-1168', 'STARLINK-1008', 'Jerusalem', 'STARLINK-1936', 'STARLINK-6217', 'STARLINK-4360', 'Berlin', 'STARLINK-1208', 'STARLINK-1031', 'STARLINK-1269', 'STARLINK-1029', 'Paris', 'Canberra', 'Brussels', 'Singapore', 'Beijing', 'STARLINK-1245', 'STARLINK-1128', 'STARLINK-1558', 'STARLINK-1035', 'Chicago', 'STARLINK-30761', 'Los Angeles', 'Amsterdam', 'New Delhi', 'Washington D.C.', 'STARLINK-4324', 'STARLINK-1960', 'New York', 'STARLINK-1696', 'STARLINK-1189'}\n",
      "Baseline 2 Tree Edges: [('STARLINK-1329', 'STARLINK-1132'), ('STARLINK-1132', 'STARLINK-1800'), ('STARLINK-1800', 'Chicago'), ('STARLINK-1329', 'STARLINK-1134'), ('STARLINK-1134', 'STARLINK-1973'), ('STARLINK-1973', 'Berlin'), ('STARLINK-1329', 'STARLINK-1010'), ('STARLINK-1010', 'STARLINK-1245'), ('STARLINK-1245', 'STARLINK-1936'), ('STARLINK-1936', 'Los Angeles'), ('STARLINK-1329', 'STARLINK-1029'), ('STARLINK-1029', 'STARLINK-1558'), ('STARLINK-1558', 'STARLINK-1269'), ('STARLINK-1269', 'STARLINK-1696'), ('STARLINK-1696', 'Seoul'), ('STARLINK-1329', 'STARLINK-1029'), ('STARLINK-1029', 'STARLINK-4360'), ('STARLINK-4360', 'STARLINK-4291'), ('STARLINK-4291', 'STARLINK-6217'), ('STARLINK-6217', 'Tokyo'), ('STARLINK-1329', 'STARLINK-1132'), ('STARLINK-1132', 'STARLINK-3610'), ('STARLINK-3610', 'Amsterdam'), ('STARLINK-1329', 'STARLINK-1029'), ('STARLINK-1029', 'STARLINK-1558'), ('STARLINK-1558', 'STARLINK-1960'), ('STARLINK-1960', 'New Delhi'), ('STARLINK-1329', 'STARLINK-1029'), ('STARLINK-1029', 'STARLINK-30226'), ('STARLINK-30226', 'London'), ('STARLINK-1329', 'STARLINK-1029'), ('STARLINK-1029', 'STARLINK-5063'), ('STARLINK-5063', 'Paris'), ('STARLINK-1329', 'STARLINK-1008'), ('STARLINK-1008', 'STARLINK-4324'), ('STARLINK-4324', 'STARLINK-1202'), ('STARLINK-1202', 'Canberra'), ('STARLINK-1329', 'STARLINK-1132'), ('STARLINK-1132', 'STARLINK-1168'), ('STARLINK-1168', 'Ottawa'), ('STARLINK-1329', 'STARLINK-1132'), ('STARLINK-1132', 'STARLINK-3610'), ('STARLINK-3610', 'Brussels'), ('STARLINK-1329', 'STARLINK-1035'), ('STARLINK-1035', 'STARLINK-1031'), ('STARLINK-1031', 'STARLINK-1208'), ('STARLINK-1208', 'Singapore'), ('STARLINK-1329', 'STARLINK-1132'), ('STARLINK-1132', 'STARLINK-1168'), ('STARLINK-1168', 'Washington D.C.'), ('STARLINK-1329', 'STARLINK-1132'), ('STARLINK-1132', 'STARLINK-1168'), ('STARLINK-1168', 'New York'), ('STARLINK-1329', 'STARLINK-1029'), ('STARLINK-1029', 'STARLINK-1128'), ('STARLINK-1128', 'STARLINK-1189'), ('STARLINK-1189', 'STARLINK-30761'), ('STARLINK-30761', 'Beijing'), ('STARLINK-1329', 'STARLINK-1029'), ('STARLINK-1029', 'STARLINK-4360'), ('STARLINK-4360', 'Jerusalem')]\n",
      "Number of Satellites Used in Baseline 2: 29\n"
     ]
    }
   ],
   "source": [
    "baseline2_tree_nodes, baseline2_tree_edges = build_baseline2(G, ground_stations, satellites)\n",
    "baseline2_tree_satellites = [node for node in baseline2_tree_nodes if node in satellites]\n",
    "print(\"Baseline 2 Tree Nodes:\", baseline2_tree_nodes)\n",
    "print(\"Baseline 2 Tree Edges:\", baseline2_tree_edges)\n",
    "print(\"Number of Satellites Used in Baseline 2:\", len(baseline2_tree_satellites))"
   ]
  },
  {
   "cell_type": "code",
   "execution_count": null,
   "id": "8f061225-f73d-4a5c-9838-9dfcc45dd15f",
   "metadata": {},
   "outputs": [],
   "source": []
  },
  {
   "cell_type": "code",
   "execution_count": null,
   "id": "3eff3b06-2202-4ef3-b27e-625a9e3b0d35",
   "metadata": {},
   "outputs": [],
   "source": []
  }
 ],
 "metadata": {
  "kernelspec": {
   "display_name": "Python 3 (ipykernel)",
   "language": "python",
   "name": "python3"
  },
  "language_info": {
   "codemirror_mode": {
    "name": "ipython",
    "version": 3
   },
   "file_extension": ".py",
   "mimetype": "text/x-python",
   "name": "python",
   "nbconvert_exporter": "python",
   "pygments_lexer": "ipython3",
   "version": "3.11.7"
  }
 },
 "nbformat": 4,
 "nbformat_minor": 5
}
