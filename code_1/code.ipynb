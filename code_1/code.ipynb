{
 "cells": [
  {
   "cell_type": "code",
   "execution_count": 1,
   "id": "93e9d77d-c38a-48ea-92fb-276ab0d221ef",
   "metadata": {},
   "outputs": [],
   "source": [
    "import json\n",
    "import os\n",
    "\n",
    "sat2stat_file_path = os.path.join(\"dataset\", \"sat2stat_efficiency.json\")\n",
    "\n",
    "\n",
    "# Write the dictionary to a file in JSON format\n",
    "with open(sat2stat_file_path, 'r') as file:\n",
    "    communication_efficiency_sat2stat = json.load(file)\n",
    "    \n",
    "    \n",
    "sat2sat_file_path = os.path.join(\"dataset\", \"sat2sat_efficiency.json\")\n",
    "\n",
    "\n",
    "# Write the dictionary to a file in JSON format\n",
    "with open(sat2sat_file_path, 'r') as file:\n",
    "    communication_efficiency_sat2sat = json.load(file)\n",
    "    "
   ]
  },
  {
   "cell_type": "code",
   "execution_count": 2,
   "id": "40e9c88c-34cd-4e9c-9d49-2c0d8dfc0ceb",
   "metadata": {},
   "outputs": [],
   "source": [
    "from algorithm.graph import generate_graph, get_optimal_consellation, generate_sub_graph, dijkstra_efficiency\n",
    "from algorithm.steiner import build_steiner_tree"
   ]
  },
  {
   "cell_type": "code",
   "execution_count": 3,
   "id": "83ef6ece-b736-4d12-8e2a-232b3d6889cf",
   "metadata": {},
   "outputs": [],
   "source": [
    "threshold = 0.0001\n",
    "G, ground_stations, satellites = generate_graph(communication_efficiency_sat2stat, communication_efficiency_sat2sat, threshold)"
   ]
  },
  {
   "cell_type": "code",
   "execution_count": 4,
   "id": "0acb8c80-2576-48c1-962e-01cbd41ed87a",
   "metadata": {},
   "outputs": [
    {
     "name": "stdout",
     "output_type": "stream",
     "text": [
      "Constructed Tree Nodes: {'Canberra', 'STARLINK-1053', 'Ottawa', 'STARLINK-1397', 'Singapore', 'Washington D.C.', 'STARLINK-1144', 'STARLINK-1154', 'STARLINK-1123', 'STARLINK-1030', 'London', 'STARLINK-1971', 'New York', 'Jerusalem', 'Brussels', 'Amsterdam', 'Paris', 'STARLINK-1160', 'Los Angeles', 'STARLINK-2751', 'STARLINK-1102', 'Seoul', 'Tokyo', 'Chicago', 'STARLINK-1054', 'Berlin', 'Beijing', 'STARLINK-1221', 'New Delhi'}\n",
      "Steiner Tree Edges: [('New York', 'STARLINK-1102'), ('STARLINK-1102', 'Ottawa'), ('STARLINK-1102', 'STARLINK-1221'), ('STARLINK-1221', 'Brussels'), ('STARLINK-1221', 'Amsterdam'), ('STARLINK-1221', 'Paris'), ('STARLINK-1221', 'London'), ('STARLINK-1221', 'STARLINK-1123'), ('STARLINK-1123', 'Jerusalem'), ('STARLINK-1102', 'STARLINK-1054'), ('STARLINK-1054', 'Los Angeles'), ('STARLINK-1054', 'Chicago'), ('STARLINK-1102', 'STARLINK-1144'), ('STARLINK-1144', 'Washington D.C.'), ('STARLINK-1102', 'STARLINK-1971'), ('STARLINK-1971', 'Berlin'), ('STARLINK-1123', 'STARLINK-1154'), ('STARLINK-1154', 'New Delhi'), ('STARLINK-1154', 'STARLINK-1030'), ('STARLINK-1030', 'Seoul'), ('STARLINK-1030', 'Beijing'), ('STARLINK-1030', 'STARLINK-1053'), ('STARLINK-1053', 'Tokyo'), ('STARLINK-1053', 'STARLINK-1397'), ('STARLINK-1397', 'Singapore'), ('STARLINK-1053', 'STARLINK-1160'), ('STARLINK-1160', 'STARLINK-2751'), ('STARLINK-2751', 'Canberra')]\n"
     ]
    }
   ],
   "source": [
    "start = \"New York\"\n",
    "\n",
    "graph = G\n",
    "tree, steiner_tree_edges = build_steiner_tree(G, start, ground_stations)\n",
    "print(\"Constructed Tree Nodes:\", tree)\n",
    "print(\"Steiner Tree Edges:\", steiner_tree_edges)"
   ]
  },
  {
   "cell_type": "code",
   "execution_count": 5,
   "id": "b52ea69a-c829-4919-978b-b9db88d29e56",
   "metadata": {},
   "outputs": [
    {
     "name": "stdout",
     "output_type": "stream",
     "text": [
      "12 satellites could cover all the ground stations\n"
     ]
    }
   ],
   "source": [
    "print(f\"{len(tree)-len(ground_stations)} satellites could cover all the ground stations\")"
   ]
  },
  {
   "cell_type": "code",
   "execution_count": 10,
   "id": "8dd984c6-f216-47c4-8b71-b05fe1304fe0",
   "metadata": {},
   "outputs": [
    {
     "data": {
      "text/plain": [
       "{'Amsterdam',\n",
       " 'Beijing',\n",
       " 'Berlin',\n",
       " 'Brussels',\n",
       " 'Canberra',\n",
       " 'Chicago',\n",
       " 'Jerusalem',\n",
       " 'London',\n",
       " 'Los Angeles',\n",
       " 'New Delhi',\n",
       " 'New York',\n",
       " 'Ottawa',\n",
       " 'Paris',\n",
       " 'Seoul',\n",
       " 'Singapore',\n",
       " 'Tokyo',\n",
       " 'Washington D.C.'}"
      ]
     },
     "execution_count": 10,
     "metadata": {},
     "output_type": "execute_result"
    }
   ],
   "source": [
    "ground_stations"
   ]
  },
  {
   "cell_type": "code",
   "execution_count": 11,
   "id": "2b2484f7-c03c-40b5-a603-965b18e6d8dc",
   "metadata": {},
   "outputs": [],
   "source": [
    "optimal_constellation = get_optimal_consellation(tree, ground_stations)"
   ]
  },
  {
   "cell_type": "code",
   "execution_count": 12,
   "id": "36bf51ae-aae3-4d62-838a-3860b78f2e0c",
   "metadata": {},
   "outputs": [
    {
     "name": "stdout",
     "output_type": "stream",
     "text": [
      "Constellations:\n",
      "['STARLINK-1021', 'STARLINK-1054', 'STARLINK-1053', 'STARLINK-2024', 'STARLINK-1971', 'STARLINK-1236', 'STARLINK-1445', 'STARLINK-1020', 'STARLINK-1144', 'STARLINK-5512']\n"
     ]
    }
   ],
   "source": [
    "print(\"Constellations:\")\n",
    "print(optimal_constellation)"
   ]
  },
  {
   "cell_type": "code",
   "execution_count": 13,
   "id": "1dae727e-3643-4e0a-bf65-08f78ce96b4c",
   "metadata": {},
   "outputs": [
    {
     "name": "stdout",
     "output_type": "stream",
     "text": [
      "Constellations:\n",
      "['STARLINK-1021', 'STARLINK-1054', 'STARLINK-1053', 'STARLINK-2024', 'STARLINK-1971', 'STARLINK-1236', 'STARLINK-1445', 'STARLINK-1020', 'STARLINK-1144', 'STARLINK-5512']\n"
     ]
    }
   ],
   "source": [
    "print(\"Constellations:\")\n",
    "print(optimal_constellation)"
   ]
  },
  {
   "cell_type": "code",
   "execution_count": 14,
   "id": "1759a74b-a427-43e5-9459-c1e20d6eb4b0",
   "metadata": {},
   "outputs": [],
   "source": [
    "sub_graph = generate_sub_graph(G, ground_stations, optimal_constellation)"
   ]
  },
  {
   "cell_type": "code",
   "execution_count": 15,
   "id": "321e629f-0030-4312-8cb8-5611f164fef8",
   "metadata": {},
   "outputs": [
    {
     "name": "stdout",
     "output_type": "stream",
     "text": [
      "Optimal path from Beijing to Tokyo is: ['Beijing', 'STARLINK-1021', 'STARLINK-1053', 'Tokyo'], efficiency: 5.7942246446643865e-09\n"
     ]
    }
   ],
   "source": [
    "city1 = 'Beijing'\n",
    "city2 = 'Tokyo'\n",
    "# Make sure to define your `sub_graph` before calling this function\n",
    "optimal_path, efficiency = dijkstra_efficiency(sub_graph, city1, city2)\n",
    "print(f\"Optimal path from {city1} to {city2} is: {optimal_path}, efficiency: {efficiency}\")\n"
   ]
  },
  {
   "cell_type": "code",
   "execution_count": 16,
   "id": "3369953c-e00d-46bf-9f2c-19cd6223fddd",
   "metadata": {},
   "outputs": [
    {
     "name": "stdout",
     "output_type": "stream",
     "text": [
      "Optimal path from New York to Los Angeles is: ['New York', 'STARLINK-1144', 'STARLINK-1054', 'Los Angeles'], efficiency: 5.045587417391956e-10\n"
     ]
    }
   ],
   "source": [
    "city1 = 'New York'\n",
    "city2 = 'Los Angeles'\n",
    "# Make sure to define your `sub_graph` before calling this function\n",
    "optimal_path, efficiency = dijkstra_efficiency(sub_graph, city1, city2)\n",
    "print(f\"Optimal path from {city1} to {city2} is: {optimal_path}, efficiency: {efficiency}\")\n",
    "\n"
   ]
  },
  {
   "cell_type": "code",
   "execution_count": 17,
   "id": "e267d79f-aa2a-40df-86af-c300ecced85e",
   "metadata": {},
   "outputs": [
    {
     "name": "stdout",
     "output_type": "stream",
     "text": [
      "Optimal path from New York to Washington D.C. is: ['New York', 'STARLINK-1144', 'Washington D.C.'], efficiency: 1.5629063975258394e-06\n"
     ]
    }
   ],
   "source": [
    "city1 = 'New York'\n",
    "city2 = 'Washington D.C.'\n",
    "# Make sure to define your `sub_graph` before calling this function\n",
    "optimal_path, efficiency = dijkstra_efficiency(sub_graph, city1, city2)\n",
    "print(f\"Optimal path from {city1} to {city2} is: {optimal_path}, efficiency: {efficiency}\")\n",
    "\n"
   ]
  },
  {
   "cell_type": "code",
   "execution_count": 18,
   "id": "b307dbf2-0b67-45c1-a53b-1c6c572ec7ce",
   "metadata": {},
   "outputs": [
    {
     "name": "stdout",
     "output_type": "stream",
     "text": [
      "Optimal path from New York to Chicago is: ['New York', 'STARLINK-1144', 'Chicago'], efficiency: 3.6359364601917305e-07\n"
     ]
    }
   ],
   "source": [
    "city1 = 'New York'\n",
    "city2 = 'Chicago'\n",
    "# Make sure to define your `sub_graph` before calling this function\n",
    "optimal_path, efficiency = dijkstra_efficiency(sub_graph, city1, city2)\n",
    "print(f\"Optimal path from {city1} to {city2} is: {optimal_path}, efficiency: {efficiency}\")\n",
    "\n"
   ]
  },
  {
   "cell_type": "code",
   "execution_count": 19,
   "id": "57fcb42f-e5b0-43ab-a17b-f08d7d5f4058",
   "metadata": {},
   "outputs": [
    {
     "name": "stdout",
     "output_type": "stream",
     "text": [
      "Optimal path from London to Berlin is: ['London', 'STARLINK-1971', 'Berlin'], efficiency: 6.581082544525907e-07\n"
     ]
    }
   ],
   "source": [
    "city1 = 'London'\n",
    "city2 = 'Berlin'\n",
    "# Make sure to define your `sub_graph` before calling this function\n",
    "optimal_path, efficiency = dijkstra_efficiency(sub_graph, city1, city2)\n",
    "print(f\"Optimal path from {city1} to {city2} is: {optimal_path}, efficiency: {efficiency}\")"
   ]
  },
  {
   "cell_type": "code",
   "execution_count": null,
   "id": "c7608c34-1429-4c87-9c1c-35c3b49a1927",
   "metadata": {},
   "outputs": [],
   "source": []
  },
  {
   "cell_type": "code",
   "execution_count": 20,
   "id": "f873a0ce-4d95-4fdc-bdd7-0f49a3b78cf0",
   "metadata": {},
   "outputs": [],
   "source": [
    "constellation_file_path = './dataset/constellation_optimal.json' \n",
    "constellation = {\"constellation\": optimal_constellation,\n",
    "                 \"ground_stations\": list(ground_stations),\n",
    "                \"graph\": sub_graph}\n",
    "\n",
    "# Write the dictionary to a file in JSON format\n",
    "with open(constellation_file_path, 'w') as file:\n",
    "    json.dump(constellation, file)"
   ]
  },
  {
   "cell_type": "code",
   "execution_count": 21,
   "id": "13227641-474d-4c63-b1ec-8bdd943ce17e",
   "metadata": {},
   "outputs": [
    {
     "data": {
      "text/plain": [
       "{'Amsterdam',\n",
       " 'Beijing',\n",
       " 'Berlin',\n",
       " 'Brussels',\n",
       " 'Canberra',\n",
       " 'Chicago',\n",
       " 'Jerusalem',\n",
       " 'London',\n",
       " 'Los Angeles',\n",
       " 'New Delhi',\n",
       " 'New York',\n",
       " 'Ottawa',\n",
       " 'Paris',\n",
       " 'Seoul',\n",
       " 'Singapore',\n",
       " 'Tokyo',\n",
       " 'Washington D.C.'}"
      ]
     },
     "execution_count": 21,
     "metadata": {},
     "output_type": "execute_result"
    }
   ],
   "source": [
    "ground_stations"
   ]
  },
  {
   "cell_type": "code",
   "execution_count": 16,
   "id": "35a79e58-f80c-40cb-9857-4a2fbcdeaf7c",
   "metadata": {},
   "outputs": [],
   "source": [
    "from load_data.get_satellites import satellite, get_satellites\n",
    "from load_data.get_ground_stations import ground_station, get_ground_station\n",
    "from load_data.load_tle import parse_tle\n",
    "from skyfield.api import load\n",
    "from model.distribution_efficiency_sat2sat import communication_loss_sat2sat\n",
    "from model.distribution_efficiency_stat2sat import communication_loss_stat2sat"
   ]
  },
  {
   "cell_type": "code",
   "execution_count": 17,
   "id": "82879f3b-5546-4ca4-a3a4-94281fd90827",
   "metadata": {},
   "outputs": [],
   "source": [
    "ground_stations_entity = get_ground_station()\n",
    "# Path to the downloaded TLE data file\n",
    "tle_path = './dataset/satellite_tle.txt'\n",
    "satellite_tle_data = parse_tle(tle_path)\n",
    "ts = load.timescale()\n",
    "specific_time = ts.utc(2024, 1, 1, 0, 0, 0)\n",
    "ground_stations_entity = get_ground_station()\n",
    "satellites_entity = get_satellites(satellite_tle_data, ts, specific_time)\n",
    "links = ['New York', 'STARLINK-1144', 'STARLINK-1054', 'Los Angeles']"
   ]
  },
  {
   "cell_type": "code",
   "execution_count": null,
   "id": "4b883c58-a6fe-460e-8e4d-ccf322b52cbc",
   "metadata": {},
   "outputs": [],
   "source": []
  },
  {
   "cell_type": "code",
   "execution_count": 18,
   "id": "f737f3ba-aa78-4418-b8c9-18078c2db2d0",
   "metadata": {},
   "outputs": [],
   "source": [
    "optimal_constellation_entity = {}\n",
    "for sat_name, tle in satellite_tle_data.items():\n",
    "    if sat_name in optimal_constellation:\n",
    "        optimal_constellation_entity[sat_name] = satellite(sat_name, tle[0], tle[1], specific_time)"
   ]
  },
  {
   "cell_type": "code",
   "execution_count": 19,
   "id": "cd7061aa-476b-46eb-92ed-92f7101108d4",
   "metadata": {},
   "outputs": [
    {
     "data": {
      "text/plain": [
       "{'STARLINK-1020': <load_data.get_satellites.satellite at 0x1a5e7ce21d0>,\n",
       " 'STARLINK-1054': <load_data.get_satellites.satellite at 0x1a5ba0e30d0>,\n",
       " 'STARLINK-1060': <load_data.get_satellites.satellite at 0x1a617f8e5d0>,\n",
       " 'STARLINK-1144': <load_data.get_satellites.satellite at 0x1a617f8eb50>,\n",
       " 'STARLINK-1236': <load_data.get_satellites.satellite at 0x1a617f8f0d0>,\n",
       " 'STARLINK-1971': <load_data.get_satellites.satellite at 0x1a617f8f650>,\n",
       " 'STARLINK-2024': <load_data.get_satellites.satellite at 0x1a617f8f9d0>,\n",
       " 'STARLINK-3905': <load_data.get_satellites.satellite at 0x1a617f8fe50>,\n",
       " 'STARLINK-30173': <load_data.get_satellites.satellite at 0x1a617f8fe10>}"
      ]
     },
     "execution_count": 19,
     "metadata": {},
     "output_type": "execute_result"
    }
   ],
   "source": [
    "optimal_constellation_entity"
   ]
  },
  {
   "cell_type": "code",
   "execution_count": 20,
   "id": "97070db2-d5b8-4232-b4b4-a279f2c18ed6",
   "metadata": {},
   "outputs": [],
   "source": [
    "def communication_loss(link, ground_stations):\n",
    "    if link[0] in ground_stations:\n",
    "        #input: station, satellite\n",
    "        efficiency = communication_loss_stat2sat(ground_stations_entity[link[0]], optimal_constellation_entity[link[1]]) \n",
    "    elif link[1] in ground_stations:\n",
    "        efficiency = communication_loss_stat2sat(ground_stations_entity[link[1]], optimal_constellation_entity[link[0]]) \n",
    "    else:\n",
    "        efficiency = communication_loss_sat2sat(optimal_constellation_entity[link[0]], optimal_constellation_entity[link[1]]) \n",
    "    return efficiency"
   ]
  },
  {
   "cell_type": "code",
   "execution_count": 21,
   "id": "ed737e7c-4f76-4427-98ff-e8c08aac88c5",
   "metadata": {},
   "outputs": [],
   "source": [
    "# update link efficiency\n",
    "def update_efficiency(links, ground_stations):\n",
    "    eta_total = 1\n",
    "    for i in range(len(links)-1):\n",
    "        link = (links[i], links[i+1])\n",
    "        #print(link)\n",
    "        eta = communication_loss(link, ground_stations)\n",
    "        eta_total *= eta\n",
    "    return eta_total"
   ]
  },
  {
   "cell_type": "code",
   "execution_count": 22,
   "id": "5e52000a-2551-4b9b-9b80-096ab6ea400b",
   "metadata": {},
   "outputs": [
    {
     "data": {
      "text/plain": [
       "1.5629063975258394e-06"
      ]
     },
     "execution_count": 22,
     "metadata": {},
     "output_type": "execute_result"
    }
   ],
   "source": [
    "links = ['New York', 'STARLINK-1144', 'Washington D.C.']\n",
    "update_efficiency(links, ground_stations)"
   ]
  },
  {
   "cell_type": "code",
   "execution_count": 23,
   "id": "6f7462e3-d7fe-4d65-bcc8-8d97505c7bb1",
   "metadata": {},
   "outputs": [],
   "source": [
    "specific_time = ts.utc(2024, 1, 1, 0, 0, 0)\n",
    "start_time = specific_time\n",
    "end_time = specific_time+30\n",
    "\n",
    "time_steps = 30*1440*60\n",
    "current_time = start_time\n"
   ]
  },
  {
   "cell_type": "code",
   "execution_count": 24,
   "id": "6c7af2c8-3089-4842-99b5-ff4d969f56a5",
   "metadata": {},
   "outputs": [],
   "source": [
    "import matplotlib.pyplot as plt\n",
    "from datetime import timedelta"
   ]
  },
  {
   "cell_type": "code",
   "execution_count": 33,
   "id": "b67dd3d3-3c0a-4229-abcd-5b9cd8dd4952",
   "metadata": {},
   "outputs": [
    {
     "data": {
      "text/plain": [
       "['New York', 'STARLINK-1144', 'Washington D.C.']"
      ]
     },
     "execution_count": 33,
     "metadata": {},
     "output_type": "execute_result"
    }
   ],
   "source": [
    "links"
   ]
  },
  {
   "cell_type": "code",
   "execution_count": 26,
   "id": "f39bd1ec-e5d9-40fd-9421-cbd5cf6d6b8a",
   "metadata": {},
   "outputs": [],
   "source": [
    "efficiency_history = []\n",
    "i = 0\n",
    "for _ in range(time_steps):\n",
    "    for sat_name, satellite in optimal_constellation_entity.items():\n",
    "        if sat_name in links:\n",
    "            satellite.change_time(current_time)\n",
    "    # 重新计算链路效率\n",
    "    eta_total = update_efficiency(links, ground_stations)\n",
    "    efficiency_history.append(eta_total)\n",
    "    current_time += (end_time-start_time)/time_steps"
   ]
  },
  {
   "cell_type": "code",
   "execution_count": 28,
   "id": "3e9165a7-2955-42c5-b2e8-b4a6c1477ea5",
   "metadata": {},
   "outputs": [],
   "source": [
    "import json"
   ]
  },
  {
   "cell_type": "code",
   "execution_count": 43,
   "id": "94b3aceb-2aac-4e01-965e-e6ebc7dc19ed",
   "metadata": {},
   "outputs": [],
   "source": [
    "efficiency_history_file_path = './dataset/efficiencyd_history_New_York_Washington D.C.json' \n",
    "\n",
    "# Write the dictionary to a file in JSON format\n",
    "with open(efficiency_history_file_path, 'w') as file:\n",
    "    json.dump(efficiency_history, file)"
   ]
  },
  {
   "cell_type": "code",
   "execution_count": 27,
   "id": "ee4995d1-ff3a-4285-b9ac-81b584914bcf",
   "metadata": {},
   "outputs": [
    {
     "data": {
      "image/png": "[encoded data removed]",
      "text/plain": [
       "<Figure size 1000x600 with 1 Axes>"
      ]
     },
     "metadata": {},
     "output_type": "display_data"
    }
   ],
   "source": [
    "# 绘制效率随时间变化的图\n",
    "plt.figure(figsize=(10, 6))\n",
    "plt.plot(efficiency_history, label='link total efficiency')\n",
    "plt.xlabel('time')\n",
    "plt.ylabel('efficiency')\n",
    "plt.title('link efficiency between New York and Washington D.C.')\n",
    "plt.legend()\n",
    "plt.grid(True)\n",
    "plt.show()"
   ]
  },
  {
   "cell_type": "code",
   "execution_count": 45,
   "id": "ef3f2a51-7d44-49b1-93aa-9e7dc940e85f",
   "metadata": {},
   "outputs": [],
   "source": [
    "import numpy as np\n",
    "#draw the distribution graph\n",
    "# Step 1: Convert eta to dB, filtering out zeros first\n",
    "eta_history_np = np.array(efficiency_history)\n",
    "eta_nonzero = eta_history_np[eta_history_np > 0.00000000001]  # Filter out zero values\n",
    "eta_dB = 10 * np.log10(eta_nonzero)  # Convert to dB"
   ]
  },
  {
   "cell_type": "code",
   "execution_count": 46,
   "id": "9e038683-2cfd-46b3-bd3f-fc00a76026cb",
   "metadata": {},
   "outputs": [
    {
     "data": {
      "image/png": "[encoded data removed]",
      "text/plain": [
       "<Figure size 800x600 with 1 Axes>"
      ]
     },
     "metadata": {},
     "output_type": "display_data"
    }
   ],
   "source": [
    "# Step 2: Plotting\n",
    "plt.figure(figsize=(8, 6))\n",
    "n, bins, patches = plt.hist(eta_dB, bins=300, density=True, alpha=0.4, color='r')  # You can adjust bins for better visualization\n",
    "\n",
    "plt.xlabel('Transmittance (dB)')\n",
    "plt.ylabel('Distribution')\n",
    "plt.title('Distribution of Transmittance: New York and Washington D.C.')\n",
    "plt.grid(False)\n",
    "plt.show()"
   ]
  },
  {
   "cell_type": "code",
   "execution_count": 111,
   "id": "9c7ed737-a0d8-44fb-b261-6dcf74cee8d9",
   "metadata": {},
   "outputs": [
    {
     "data": {
      "text/plain": [
       "5.045587417391956e-10"
      ]
     },
     "execution_count": 111,
     "metadata": {},
     "output_type": "execute_result"
    }
   ],
   "source": [
    "for sat_name, satellite in optimal_constellation_entity.items():\n",
    "    satellite.change_time(specific_time)\n",
    "# 重新计算链路效率\n",
    "eta_total = update_efficiency(links, ground_stations)\n",
    "eta_total"
   ]
  },
  {
   "cell_type": "code",
   "execution_count": 152,
   "id": "ed4b7310-c617-46ce-8f9d-db963a93b3d0",
   "metadata": {},
   "outputs": [],
   "source": [
    "test = []\n",
    "for i in range(-1500,1500, 1):\n",
    "    for sat_name, satellite in optimal_constellation_entity.items():\n",
    "        satellite.change_time(specific_time+i/1440)\n",
    "    # 重新计算链路效率\n",
    "    eta_total = update_efficiency(links, ground_stations)\n",
    "    test.append(eta_total)"
   ]
  },
  {
   "cell_type": "code",
   "execution_count": 153,
   "id": "f69d65ea-396b-4c1f-b748-269629beb2a8",
   "metadata": {},
   "outputs": [
    {
     "data": {
      "image/png": "[encoded data removed]",
      "text/plain": [
       "<Figure size 1000x600 with 1 Axes>"
      ]
     },
     "metadata": {},
     "output_type": "display_data"
    }
   ],
   "source": [
    "# 绘制效率随时间变化的图\n",
    "plt.figure(figsize=(10, 6))\n",
    "plt.plot(test, label='link total efficiency')\n",
    "plt.xlabel('time')\n",
    "plt.ylabel('efficiency')\n",
    "plt.title('link efficiency between New York and Los Angeles')\n",
    "plt.legend()\n",
    "plt.grid(True)\n",
    "plt.show()"
   ]
  },
  {
   "cell_type": "code",
   "execution_count": 173,
   "id": "a15c7866-2626-4e05-a2ca-893e26ede4c5",
   "metadata": {},
   "outputs": [],
   "source": [
    "specific_time = ts.utc(2024, 1, 1, 0, 0, 0)\n",
    "start_time = specific_time-5/1440\n",
    "end_time = specific_time+5/1440\n",
    "\n",
    "time_steps = 6000\n",
    "current_time = start_time\n"
   ]
  },
  {
   "cell_type": "code",
   "execution_count": 174,
   "id": "837ceaf0-3b51-4a72-8fc4-ba51b3787987",
   "metadata": {},
   "outputs": [],
   "source": [
    "efficiency_history = []\n",
    "i = 0\n",
    "for _ in range(time_steps):\n",
    "    for sat_name, satellite in optimal_constellation_entity.items():\n",
    "        satellite.change_time(current_time)\n",
    "    # 重新计算链路效率\n",
    "    eta_total = update_efficiency(links, ground_stations)\n",
    "    efficiency_history.append(eta_total)\n",
    "    current_time += (end_time-start_time)/time_steps"
   ]
  },
  {
   "cell_type": "code",
   "execution_count": 175,
   "id": "43cce7e8-f1d8-4ccb-8ca6-4931261d2281",
   "metadata": {},
   "outputs": [
    {
     "data": {
      "image/png": "[encoded data removed]",
      "text/plain": [
       "<Figure size 1000x600 with 1 Axes>"
      ]
     },
     "metadata": {},
     "output_type": "display_data"
    }
   ],
   "source": [
    "# 绘制效率随时间变化的图\n",
    "plt.figure(figsize=(10, 6))\n",
    "plt.plot(efficiency_history, label='link total efficiency')\n",
    "plt.xlabel('time')\n",
    "plt.ylabel('efficiency')\n",
    "plt.title('link efficiency between New York and Los Angeles')\n",
    "plt.legend()\n",
    "plt.grid(True)\n",
    "plt.show()"
   ]
  },
  {
   "cell_type": "code",
   "execution_count": 10,
   "id": "8f9e8580-f69a-401b-86e5-9d06fe6f9e7b",
   "metadata": {},
   "outputs": [
    {
     "data": {
      "text/plain": [
       "1.517037037037037"
      ]
     },
     "execution_count": 10,
     "metadata": {},
     "output_type": "execute_result"
    }
   ],
   "source": [
    "(1<<17)/3600/24"
   ]
  },
  {
   "cell_type": "code",
   "execution_count": 14,
   "id": "ef5342b8-521a-4504-985d-315e95986df7",
   "metadata": {},
   "outputs": [
    {
     "data": {
      "text/plain": [
       "131.072"
      ]
     },
     "execution_count": 14,
     "metadata": {},
     "output_type": "execute_result"
    }
   ],
   "source": [
    "(1<<17)/1000"
   ]
  },
  {
   "cell_type": "raw",
   "id": "60ee4a48-bff6-413b-9913-9fc0085c552d",
   "metadata": {},
   "source": [
    "Algorithm: Dynamic Programming for Steiner Tree\n",
    "Input: Graph G(V, E), set of terminals T\n",
    "Output: Minimum weight Steiner Tree that spans all terminals\n",
    "\n",
    "1. Initialize dp array\n",
    "   for each vertex i in V:\n",
    "       for each subset s of T:\n",
    "           if i is in s:\n",
    "               dp(i, s) = 0   // Tree containing only itself has zero cost\n",
    "           else:\n",
    "               dp(i, s) = infinity  // Initially, no feasible subtree connects set s with root i\n",
    "\n",
    "2. Compute state transitions\n",
    "   for each subset s of T:\n",
    "       for each vertex i in V:\n",
    "           if i is in s:\n",
    "               // Consider all edges (i, j) and update dp using the inclusion of j into the subtree\n",
    "               for each vertex j in V:\n",
    "                   if there is an edge (i, j):\n",
    "                       for each subset s' that is a subset of s and includes i:\n",
    "                           dp(i, s) = min(dp(i, s), dp(j, s') + weight(i, j))\n",
    "\n",
    "               // Consider merging two subtrees rooted at the same vertex\n",
    "               for each subset s1 that is a subset of s:\n",
    "                   s2 = s - s1\n",
    "                   dp(i, s) = min(dp(i, s), dp(i, s1) + dp(i, s2))\n",
    "\n",
    "3. Retrieve the optimal solution\n",
    "   minimum_cost = infinity\n",
    "   for each vertex i in V:\n",
    "       // Consider the state where all terminals are included\n",
    "       minimum_cost = min(minimum_cost, dp(i, T))\n",
    "\n",
    "4. Return the minimum cost of the Steiner Tree\n"
   ]
  },
  {
   "cell_type": "code",
   "execution_count": 35,
   "id": "ee382574-ce6d-42ac-904b-b7e847d77df3",
   "metadata": {},
   "outputs": [
    {
     "data": {
      "text/plain": [
       "6.581082544525907e-07"
      ]
     },
     "execution_count": 35,
     "metadata": {},
     "output_type": "execute_result"
    }
   ],
   "source": [
    "links = ['London', 'STARLINK-1971', 'Berlin']\n",
    "update_efficiency(links, ground_stations)"
   ]
  },
  {
   "cell_type": "code",
   "execution_count": 37,
   "id": "a1e0f143-cd3c-4a31-aaff-84b1f327813a",
   "metadata": {},
   "outputs": [],
   "source": [
    "efficiency_history_London_Berlin = []\n",
    "i = 0\n",
    "for _ in range(time_steps):\n",
    "    for sat_name, satellite in optimal_constellation_entity.items():\n",
    "        if sat_name in links:\n",
    "            satellite.change_time(current_time)\n",
    "    # 重新计算链路效率\n",
    "    eta_total = update_efficiency(links, ground_stations)\n",
    "    efficiency_history_London_Berlin.append(eta_total)\n",
    "    current_time += (end_time-start_time)/time_steps"
   ]
  },
  {
   "cell_type": "code",
   "execution_count": 40,
   "id": "714614a5-c18e-45ba-a4a1-49aec917b408",
   "metadata": {},
   "outputs": [],
   "source": [
    "efficiency_history_file_path = './dataset/efficiencyd_history_London_Berlin.json' \n",
    "\n",
    "# Write the dictionary to a file in JSON format\n",
    "with open(efficiency_history_file_path, 'w') as file:\n",
    "    json.dumps(efficiency_history_London_Berlin)"
   ]
  },
  {
   "cell_type": "code",
   "execution_count": null,
   "id": "bcf5aef1-087b-437f-8cdc-cf9ed903f5eb",
   "metadata": {},
   "outputs": [],
   "source": []
  }
 ],
 "metadata": {
  "kernelspec": {
   "display_name": "Python 3 (ipykernel)",
   "language": "python",
   "name": "python3"
  },
  "language_info": {
   "codemirror_mode": {
    "name": "ipython",
    "version": 3
   },
   "file_extension": ".py",
   "mimetype": "text/x-python",
   "name": "python",
   "nbconvert_exporter": "python",
   "pygments_lexer": "ipython3",
   "version": "3.12.3"
  }
 },
 "nbformat": 4,
 "nbformat_minor": 5
}
