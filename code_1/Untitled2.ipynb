{
 "cells": [
  {
   "cell_type": "code",
   "execution_count": 4,
   "id": "eb81b2f6-f974-4724-a4e5-74cd2d4594d6",
   "metadata": {},
   "outputs": [],
   "source": [
    "from load_data.get_satellites import satellite, get_satellites\n",
    "from load_data.get_ground_stations import ground_station, get_ground_station\n",
    "from load_data.load_tle import parse_tle\n",
    "from skyfield.api import load\n",
    "from model.distribution_efficiency_sat2sat import communication_loss_sat2sat\n",
    "from model.distribution_efficiency_stat2sat import communication_loss_stat2sat"
   ]
  },
  {
   "cell_type": "code",
   "execution_count": 5,
   "id": "20e3e49f-ba63-4718-8ec0-559e51d3ac92",
   "metadata": {},
   "outputs": [],
   "source": [
    "ground_stations_entity = get_ground_station()\n",
    "# Path to the downloaded TLE data file\n",
    "tle_path = './dataset/satellite_tle.txt'\n",
    "satellite_tle_data = parse_tle(tle_path)\n"
   ]
  },
  {
   "cell_type": "code",
   "execution_count": 6,
   "id": "6254d513-7e4b-4681-9566-de9d32d8200d",
   "metadata": {},
   "outputs": [
    {
     "data": {
      "text/plain": [
       "5268"
      ]
     },
     "execution_count": 6,
     "metadata": {},
     "output_type": "execute_result"
    }
   ],
   "source": [
    "len(satellite_tle_data)"
   ]
  },
  {
   "cell_type": "code",
   "execution_count": 14,
   "id": "b63b2816-2f95-4654-9663-1de25ba86993",
   "metadata": {},
   "outputs": [],
   "source": [
    "satellite_name = list(satellite_tle_data.keys())"
   ]
  },
  {
   "cell_type": "code",
   "execution_count": 18,
   "id": "abf612af-f0dc-40e3-9a66-bffd3f6d5f36",
   "metadata": {},
   "outputs": [],
   "source": [
    "import random"
   ]
  },
  {
   "cell_type": "code",
   "execution_count": 61,
   "id": "2d7117cb-d4a0-4e44-a5aa-e4f159f1f535",
   "metadata": {},
   "outputs": [],
   "source": [
    "# 从 satellite_name 中随机选择 100 个卫星\n",
    "random_selected_satellites = random.sample(satellite_name, 1000)"
   ]
  },
  {
   "cell_type": "code",
   "execution_count": 62,
   "id": "a1603173-4236-4729-96eb-020e98689986",
   "metadata": {},
   "outputs": [
    {
     "data": {
      "text/plain": [
       "False"
      ]
     },
     "execution_count": 62,
     "metadata": {},
     "output_type": "execute_result"
    }
   ],
   "source": [
    "'STARLINK-3642' in random_selected_satellites\n"
   ]
  },
  {
   "cell_type": "code",
   "execution_count": null,
   "id": "d2d60811-22e3-4bcd-b9dc-9e0421986bcc",
   "metadata": {},
   "outputs": [],
   "source": []
  }
 ],
 "metadata": {
  "kernelspec": {
   "display_name": "Python 3 (ipykernel)",
   "language": "python",
   "name": "python3"
  },
  "language_info": {
   "codemirror_mode": {
    "name": "ipython",
    "version": 3
   },
   "file_extension": ".py",
   "mimetype": "text/x-python",
   "name": "python",
   "nbconvert_exporter": "python",
   "pygments_lexer": "ipython3",
   "version": "3.12.3"
  }
 },
 "nbformat": 4,
 "nbformat_minor": 5
}
